{
 "cells": [
  {
   "cell_type": "markdown",
   "id": "654d8034",
   "metadata": {},
   "source": [
    "# CLASSIFICATION MODEL-Build a model that classifies the side effect of a drug by age,gender."
   ]
  },
  {
   "cell_type": "markdown",
   "id": "de6b2c97",
   "metadata": {},
   "source": [
    "# Importing necessary libraries"
   ]
  },
  {
   "cell_type": "code",
   "execution_count": 1,
   "id": "9779763d",
   "metadata": {},
   "outputs": [],
   "source": [
    "import pandas as pd\n",
    "import numpy as np\n",
    "import matplotlib.pyplot as plt\n",
    "import seaborn as sns"
   ]
  },
  {
   "cell_type": "markdown",
   "id": "f31caeb3",
   "metadata": {},
   "source": [
    "# Read the dataset to python environment "
   ]
  },
  {
   "cell_type": "code",
   "execution_count": 2,
   "id": "5177ab6c",
   "metadata": {},
   "outputs": [
    {
     "data": {
      "text/html": [
       "<div>\n",
       "<style scoped>\n",
       "    .dataframe tbody tr th:only-of-type {\n",
       "        vertical-align: middle;\n",
       "    }\n",
       "\n",
       "    .dataframe tbody tr th {\n",
       "        vertical-align: top;\n",
       "    }\n",
       "\n",
       "    .dataframe thead th {\n",
       "        text-align: right;\n",
       "    }\n",
       "</style>\n",
       "<table border=\"1\" class=\"dataframe\">\n",
       "  <thead>\n",
       "    <tr style=\"text-align: right;\">\n",
       "      <th></th>\n",
       "      <th>Age</th>\n",
       "      <th>Condition</th>\n",
       "      <th>Date</th>\n",
       "      <th>Drug</th>\n",
       "      <th>DrugId</th>\n",
       "      <th>EaseofUse</th>\n",
       "      <th>Effectiveness</th>\n",
       "      <th>Reviews</th>\n",
       "      <th>Satisfaction</th>\n",
       "      <th>Sex</th>\n",
       "      <th>Sides</th>\n",
       "      <th>UsefulCount</th>\n",
       "    </tr>\n",
       "  </thead>\n",
       "  <tbody>\n",
       "    <tr>\n",
       "      <th>0</th>\n",
       "      <td>75 or over</td>\n",
       "      <td>Stuffy Nose</td>\n",
       "      <td>9/21/2014</td>\n",
       "      <td>25dph-7.5peh</td>\n",
       "      <td>146724</td>\n",
       "      <td>5</td>\n",
       "      <td>5</td>\n",
       "      <td>I'm a retired physician and of all the meds I ...</td>\n",
       "      <td>5</td>\n",
       "      <td>Male</td>\n",
       "      <td>Drowsiness,  dizziness ,  dry mouth /nose/thro...</td>\n",
       "      <td>0</td>\n",
       "    </tr>\n",
       "    <tr>\n",
       "      <th>1</th>\n",
       "      <td>25-34</td>\n",
       "      <td>Cold Symptoms</td>\n",
       "      <td>1/13/2011</td>\n",
       "      <td>25dph-7.5peh</td>\n",
       "      <td>146724</td>\n",
       "      <td>5</td>\n",
       "      <td>5</td>\n",
       "      <td>cleared me right up even with my throat hurtin...</td>\n",
       "      <td>5</td>\n",
       "      <td>Female</td>\n",
       "      <td>Drowsiness,  dizziness ,  dry mouth /nose/thro...</td>\n",
       "      <td>1</td>\n",
       "    </tr>\n",
       "    <tr>\n",
       "      <th>2</th>\n",
       "      <td>65-74</td>\n",
       "      <td>Other</td>\n",
       "      <td>7/16/2012</td>\n",
       "      <td>warfarin (bulk) 100 % powder</td>\n",
       "      <td>144731</td>\n",
       "      <td>2</td>\n",
       "      <td>3</td>\n",
       "      <td>why did my PTINR go from a normal of 2.5 to ov...</td>\n",
       "      <td>3</td>\n",
       "      <td>Female</td>\n",
       "      <td></td>\n",
       "      <td>0</td>\n",
       "    </tr>\n",
       "    <tr>\n",
       "      <th>3</th>\n",
       "      <td>75 or over</td>\n",
       "      <td>Other</td>\n",
       "      <td>9/23/2010</td>\n",
       "      <td>warfarin (bulk) 100 % powder</td>\n",
       "      <td>144731</td>\n",
       "      <td>2</td>\n",
       "      <td>2</td>\n",
       "      <td>FALLING AND DON'T REALISE IT</td>\n",
       "      <td>1</td>\n",
       "      <td>Female</td>\n",
       "      <td></td>\n",
       "      <td>0</td>\n",
       "    </tr>\n",
       "    <tr>\n",
       "      <th>4</th>\n",
       "      <td>35-44</td>\n",
       "      <td>Other</td>\n",
       "      <td>1/6/2009</td>\n",
       "      <td>warfarin (bulk) 100 % powder</td>\n",
       "      <td>144731</td>\n",
       "      <td>1</td>\n",
       "      <td>1</td>\n",
       "      <td>My grandfather was prescribed this medication ...</td>\n",
       "      <td>1</td>\n",
       "      <td>Male</td>\n",
       "      <td></td>\n",
       "      <td>1</td>\n",
       "    </tr>\n",
       "  </tbody>\n",
       "</table>\n",
       "</div>"
      ],
      "text/plain": [
       "          Age      Condition       Date                          Drug  DrugId  \\\n",
       "0  75 or over    Stuffy Nose  9/21/2014                  25dph-7.5peh  146724   \n",
       "1       25-34  Cold Symptoms  1/13/2011                  25dph-7.5peh  146724   \n",
       "2       65-74          Other  7/16/2012  warfarin (bulk) 100 % powder  144731   \n",
       "3  75 or over          Other  9/23/2010  warfarin (bulk) 100 % powder  144731   \n",
       "4       35-44          Other   1/6/2009  warfarin (bulk) 100 % powder  144731   \n",
       "\n",
       "   EaseofUse  Effectiveness  \\\n",
       "0          5              5   \n",
       "1          5              5   \n",
       "2          2              3   \n",
       "3          2              2   \n",
       "4          1              1   \n",
       "\n",
       "                                             Reviews  Satisfaction     Sex  \\\n",
       "0  I'm a retired physician and of all the meds I ...             5    Male   \n",
       "1  cleared me right up even with my throat hurtin...             5  Female   \n",
       "2  why did my PTINR go from a normal of 2.5 to ov...             3  Female   \n",
       "3                       FALLING AND DON'T REALISE IT             1  Female   \n",
       "4  My grandfather was prescribed this medication ...             1    Male   \n",
       "\n",
       "                                               Sides  UsefulCount  \n",
       "0  Drowsiness,  dizziness ,  dry mouth /nose/thro...            0  \n",
       "1  Drowsiness,  dizziness ,  dry mouth /nose/thro...            1  \n",
       "2                                                               0  \n",
       "3                                                               0  \n",
       "4                                                               1  "
      ]
     },
     "execution_count": 2,
     "metadata": {},
     "output_type": "execute_result"
    }
   ],
   "source": [
    "df=pd.read_csv('archive.zip')\n",
    "df.head()"
   ]
  },
  {
   "cell_type": "code",
   "execution_count": 3,
   "id": "7460b61e",
   "metadata": {},
   "outputs": [
    {
     "name": "stdout",
     "output_type": "stream",
     "text": [
      "<class 'pandas.core.frame.DataFrame'>\n",
      "RangeIndex: 362806 entries, 0 to 362805\n",
      "Data columns (total 12 columns):\n",
      " #   Column         Non-Null Count   Dtype \n",
      "---  ------         --------------   ----- \n",
      " 0   Age            362806 non-null  object\n",
      " 1   Condition      362806 non-null  object\n",
      " 2   Date           362806 non-null  object\n",
      " 3   Drug           362806 non-null  object\n",
      " 4   DrugId         362806 non-null  int64 \n",
      " 5   EaseofUse      362806 non-null  int64 \n",
      " 6   Effectiveness  362806 non-null  int64 \n",
      " 7   Reviews        362769 non-null  object\n",
      " 8   Satisfaction   362806 non-null  int64 \n",
      " 9   Sex            362806 non-null  object\n",
      " 10  Sides          362806 non-null  object\n",
      " 11  UsefulCount    362806 non-null  int64 \n",
      "dtypes: int64(5), object(7)\n",
      "memory usage: 33.2+ MB\n"
     ]
    }
   ],
   "source": [
    "df.info()"
   ]
  },
  {
   "cell_type": "code",
   "execution_count": 4,
   "id": "7b0b1b88",
   "metadata": {},
   "outputs": [
    {
     "data": {
      "text/plain": [
       "(362806, 12)"
      ]
     },
     "execution_count": 4,
     "metadata": {},
     "output_type": "execute_result"
    }
   ],
   "source": [
    "df.shape"
   ]
  },
  {
   "cell_type": "code",
   "execution_count": 5,
   "id": "d8afa015",
   "metadata": {},
   "outputs": [
    {
     "data": {
      "text/html": [
       "<div>\n",
       "<style scoped>\n",
       "    .dataframe tbody tr th:only-of-type {\n",
       "        vertical-align: middle;\n",
       "    }\n",
       "\n",
       "    .dataframe tbody tr th {\n",
       "        vertical-align: top;\n",
       "    }\n",
       "\n",
       "    .dataframe thead th {\n",
       "        text-align: right;\n",
       "    }\n",
       "</style>\n",
       "<table border=\"1\" class=\"dataframe\">\n",
       "  <thead>\n",
       "    <tr style=\"text-align: right;\">\n",
       "      <th></th>\n",
       "      <th>DrugId</th>\n",
       "      <th>EaseofUse</th>\n",
       "      <th>Effectiveness</th>\n",
       "      <th>Satisfaction</th>\n",
       "      <th>UsefulCount</th>\n",
       "    </tr>\n",
       "  </thead>\n",
       "  <tbody>\n",
       "    <tr>\n",
       "      <th>count</th>\n",
       "      <td>362806.000000</td>\n",
       "      <td>362806.000000</td>\n",
       "      <td>362806.000000</td>\n",
       "      <td>362806.000000</td>\n",
       "      <td>362806.000000</td>\n",
       "    </tr>\n",
       "    <tr>\n",
       "      <th>mean</th>\n",
       "      <td>36879.370774</td>\n",
       "      <td>4.019829</td>\n",
       "      <td>3.532061</td>\n",
       "      <td>3.135408</td>\n",
       "      <td>6.744916</td>\n",
       "    </tr>\n",
       "    <tr>\n",
       "      <th>std</th>\n",
       "      <td>52624.412971</td>\n",
       "      <td>1.317711</td>\n",
       "      <td>1.455961</td>\n",
       "      <td>1.611106</td>\n",
       "      <td>9.324240</td>\n",
       "    </tr>\n",
       "    <tr>\n",
       "      <th>min</th>\n",
       "      <td>1.000000</td>\n",
       "      <td>1.000000</td>\n",
       "      <td>1.000000</td>\n",
       "      <td>1.000000</td>\n",
       "      <td>0.000000</td>\n",
       "    </tr>\n",
       "    <tr>\n",
       "      <th>25%</th>\n",
       "      <td>4896.000000</td>\n",
       "      <td>3.000000</td>\n",
       "      <td>3.000000</td>\n",
       "      <td>1.000000</td>\n",
       "      <td>1.000000</td>\n",
       "    </tr>\n",
       "    <tr>\n",
       "      <th>50%</th>\n",
       "      <td>9548.000000</td>\n",
       "      <td>5.000000</td>\n",
       "      <td>4.000000</td>\n",
       "      <td>3.000000</td>\n",
       "      <td>4.000000</td>\n",
       "    </tr>\n",
       "    <tr>\n",
       "      <th>75%</th>\n",
       "      <td>63522.000000</td>\n",
       "      <td>5.000000</td>\n",
       "      <td>5.000000</td>\n",
       "      <td>5.000000</td>\n",
       "      <td>9.000000</td>\n",
       "    </tr>\n",
       "    <tr>\n",
       "      <th>max</th>\n",
       "      <td>178546.000000</td>\n",
       "      <td>10.000000</td>\n",
       "      <td>10.000000</td>\n",
       "      <td>10.000000</td>\n",
       "      <td>255.000000</td>\n",
       "    </tr>\n",
       "  </tbody>\n",
       "</table>\n",
       "</div>"
      ],
      "text/plain": [
       "              DrugId      EaseofUse  Effectiveness   Satisfaction  \\\n",
       "count  362806.000000  362806.000000  362806.000000  362806.000000   \n",
       "mean    36879.370774       4.019829       3.532061       3.135408   \n",
       "std     52624.412971       1.317711       1.455961       1.611106   \n",
       "min         1.000000       1.000000       1.000000       1.000000   \n",
       "25%      4896.000000       3.000000       3.000000       1.000000   \n",
       "50%      9548.000000       5.000000       4.000000       3.000000   \n",
       "75%     63522.000000       5.000000       5.000000       5.000000   \n",
       "max    178546.000000      10.000000      10.000000      10.000000   \n",
       "\n",
       "         UsefulCount  \n",
       "count  362806.000000  \n",
       "mean        6.744916  \n",
       "std         9.324240  \n",
       "min         0.000000  \n",
       "25%         1.000000  \n",
       "50%         4.000000  \n",
       "75%         9.000000  \n",
       "max       255.000000  "
      ]
     },
     "execution_count": 5,
     "metadata": {},
     "output_type": "execute_result"
    }
   ],
   "source": [
    "df.describe()"
   ]
  },
  {
   "cell_type": "code",
   "execution_count": 6,
   "id": "d5afa265",
   "metadata": {},
   "outputs": [
    {
     "data": {
      "text/plain": [
       "Index(['Age', 'Condition', 'Date', 'Drug', 'DrugId', 'EaseofUse',\n",
       "       'Effectiveness', 'Reviews', 'Satisfaction', 'Sex', 'Sides',\n",
       "       'UsefulCount'],\n",
       "      dtype='object')"
      ]
     },
     "execution_count": 6,
     "metadata": {},
     "output_type": "execute_result"
    }
   ],
   "source": [
    "df.columns"
   ]
  },
  {
   "cell_type": "code",
   "execution_count": 7,
   "id": "0bb7608e",
   "metadata": {},
   "outputs": [
    {
     "data": {
      "text/plain": [
       "Age                  12\n",
       "Condition          1806\n",
       "Date               4524\n",
       "Drug               7093\n",
       "DrugId             6572\n",
       "EaseofUse             7\n",
       "Effectiveness         7\n",
       "Reviews          250167\n",
       "Satisfaction          7\n",
       "Sex                   3\n",
       "Sides              1651\n",
       "UsefulCount         148\n",
       "dtype: int64"
      ]
     },
     "execution_count": 7,
     "metadata": {},
     "output_type": "execute_result"
    }
   ],
   "source": [
    "df.nunique()    # finding the unique values in the columns"
   ]
  },
  {
   "cell_type": "code",
   "execution_count": 10,
   "id": "cc7b5e8e",
   "metadata": {},
   "outputs": [
    {
     "name": "stdout",
     "output_type": "stream",
     "text": [
      "Unique values in Age are :\n",
      "45-54         80043\n",
      "55-64         75136\n",
      "35-44         55011\n",
      "25-34         49718\n",
      "65-74         41216\n",
      "19-24         24230\n",
      "75 or over    15226\n",
      "              12202\n",
      "13-18          7045\n",
      "7-12           1644\n",
      "3-6             838\n",
      "0-2             497\n",
      "Name: Age, dtype: int64\n",
      "**************************************************\n",
      "Unique values in Condition are :\n",
      "Other                                                    49765\n",
      "Pain                                                     25232\n",
      "High Blood Pressure                                      23275\n",
      "Depression                                               14509\n",
      "Birth Control                                            12253\n",
      "                                                         ...  \n",
      "Infection due to the Bacteria Rickettsia                     1\n",
      "Additional Medication to Increase Absorption of Drugs        1\n",
      "Severe Diarrhea                                              1\n",
      "High Amount of Oxalic Acid in the Urine                      1\n",
      "Severe Prolonged Asthma Attack                               1\n",
      "Name: Condition, Length: 1806, dtype: int64\n",
      "**************************************************\n",
      "Unique values in Date are :\n",
      "10/29/2007    404\n",
      "10/30/2007    316\n",
      "10/28/2007    315\n",
      "3/15/2010     308\n",
      "3/16/2010     295\n",
      "             ... \n",
      "10/25/2019      2\n",
      "10/20/2019      1\n",
      "6/28/2019       1\n",
      "6/22/2019       1\n",
      "10/27/2019      1\n",
      "Name: Date, Length: 4524, dtype: int64\n",
      "**************************************************\n",
      "Unique values in Drug are :\n",
      "cymbalta                                       4648\n",
      "lisinopril                                     4269\n",
      "lisinopril solution                            4269\n",
      "lexapro                                        4134\n",
      "hydrocodone-acetaminophen                      3944\n",
      "                                               ... \n",
      "creatine (bulk) 100 % powder                      1\n",
      "ropivacaine hcl vial                              1\n",
      "bacitracin zinc-polymyxin b ointment              1\n",
      "proctosol-hc cream with perineal applicator       1\n",
      "d.farinae mite extract vial                       1\n",
      "Name: Drug, Length: 7093, dtype: int64\n",
      "**************************************************\n",
      "Unique values in DrugId are :\n",
      "6873      8538\n",
      "1025      7868\n",
      "6007      7728\n",
      "4398      5864\n",
      "14208     5451\n",
      "          ... \n",
      "2728         1\n",
      "8877         1\n",
      "64438        1\n",
      "158692       1\n",
      "18441        1\n",
      "Name: DrugId, Length: 6572, dtype: int64\n",
      "**************************************************\n",
      "Unique values in EaseofUse are :\n",
      "5     192650\n",
      "4      74732\n",
      "3      41303\n",
      "1      35927\n",
      "2      18191\n",
      "6          2\n",
      "10         1\n",
      "Name: EaseofUse, dtype: int64\n",
      "**************************************************\n",
      "Unique values in Effectiveness are :\n",
      "5     130388\n",
      "4      81821\n",
      "3      60406\n",
      "1      59387\n",
      "2      30801\n",
      "6          2\n",
      "10         1\n",
      "Name: Effectiveness, dtype: int64\n",
      "**************************************************\n",
      "Unique values in Reviews are :\n",
      "                                                                                                                                                                                                                                                                                                                          41824\n",
      "good                                                                                                                                                                                                                                                                                                                        183\n",
      "this treatment is awsome.  I love drugs.                                                                                                                                                                                                                                                                                    172\n",
      "This drug is awesome.  I love drugs.                                                                                                                                                                                                                                                                                        128\n",
      "No Script or health Insurance needed to place and order with 10% discount for all purchased. It was nice to have some from them, I just hit them at. WhatsApp only:+1(775)7735306,\\nCall/Text:+1(775)7735306,\\nWickr or Kik: peterking2014.\\nEmail: peterkings2014@gmail.com.\\nMessage code: (Med16) Discreet Delivery       90\n",
      "                                                                                                                                                                                                                                                                                                                          ...  \n",
      "Did not work to pull me out of the funk. I had all of the side effects, bt no benefit. Did work to help me lose weight a bit and cut down on my smoking.                                                                                                                                                                      1\n",
      "helps clear up chest congestion and wheezing\\n                                                                                                                                                                                                                                                                                1\n",
      "I need to know what I'm NOT suppose to eat with this drug.  Every day someone tells me you should not eat that.                                                                                                                                                                                                               1\n",
      "made my nerves crazy, dry mouth itchy.  no sleep                                                                                                                                                                                                                                                                              1\n",
      "Pain in the a.. to take with food every time. No way does it last 12 hrs.                                                                                                                                                                                                                                                     1\n",
      "Name: Reviews, Length: 250167, dtype: int64\n",
      "**************************************************\n",
      "Unique values in Satisfaction are :\n",
      "5     111550\n",
      "1     100901\n",
      "4      63158\n",
      "3      51852\n",
      "2      35342\n",
      "6          2\n",
      "10         1\n",
      "Name: Satisfaction, dtype: int64\n",
      "**************************************************\n",
      "Unique values in Sex are :\n",
      "Female    238226\n",
      "Male       98043\n",
      "           26537\n",
      "Name: Sex, dtype: int64\n",
      "**************************************************\n",
      "Unique values in Sides are :\n",
      "                                                                                                                                                                  17460\n",
      "Nausea ,  vomiting ,  constipation ,  lightheadedness ,  dizziness , or drowsiness may occur.                                                                     15563\n",
      "Nausea ,  vomiting ,  headache ,  bloating ,  breast  tenderness, swelling of the  ankles /feet (fluid retention), or  weight  change may occur.                  12116\n",
      "Dizziness ,  lightheadedness , tiredness, or  headache  may occur as your body adjusts to the  medication . Dry  cough  may also occur.                            9162\n",
      "Drowsiness,  dizziness , loss of coordination, tiredness, blurred/ double vision , unusual  eye  movements, or shaking (tremor) may occur.                         7790\n",
      "                                                                                                                                                                  ...  \n",
      "Flushing of the upper body may occur if this  medication  is injected too fast (\"red man syndrome\").                                                                  1\n",
      "Nausea ,  vomiting , loss of appetite, unusual taste/dryness in the  mouth ,  dizziness ,  diarrhea , or redness/pain/leakage at the injection site may occur.        1\n",
      "Stomach  upset,  nausea ,  diarrhea , or drowsiness may occur.                                                                                                        1\n",
      "Stuffy/ runny nose ,  cough ,  sore throat , or  sneezing  may occur.                                                                                                 1\n",
      "Headache ,  nausea , chills, or fever may occur.                                                                                                                      1\n",
      "Name: Sides, Length: 1651, dtype: int64\n",
      "**************************************************\n",
      "Unique values in UsefulCount are :\n",
      "0      71608\n",
      "1      46240\n",
      "2      34701\n",
      "3      27307\n",
      "4      22862\n",
      "       ...  \n",
      "136        1\n",
      "116        1\n",
      "132        1\n",
      "131        1\n",
      "255        1\n",
      "Name: UsefulCount, Length: 148, dtype: int64\n",
      "**************************************************\n"
     ]
    }
   ],
   "source": [
    "for i in df.columns:\n",
    "    print('Unique values in',i, 'are :')\n",
    "    print(df[i].value_counts())\n",
    "    print('*'*50)"
   ]
  },
  {
   "cell_type": "markdown",
   "id": "7cd4915b",
   "metadata": {},
   "source": [
    "# DATA PRE-PROCESSING"
   ]
  },
  {
   "cell_type": "markdown",
   "id": "8cb56f0e",
   "metadata": {},
   "source": [
    "# 1. Handling Null Values"
   ]
  },
  {
   "cell_type": "code",
   "execution_count": 11,
   "id": "4dfa5418",
   "metadata": {},
   "outputs": [
    {
     "data": {
      "text/plain": [
       "array([[<AxesSubplot:title={'center':'DrugId'}>,\n",
       "        <AxesSubplot:title={'center':'EaseofUse'}>],\n",
       "       [<AxesSubplot:title={'center':'Effectiveness'}>,\n",
       "        <AxesSubplot:title={'center':'Satisfaction'}>],\n",
       "       [<AxesSubplot:title={'center':'UsefulCount'}>, <AxesSubplot:>]],\n",
       "      dtype=object)"
      ]
     },
     "execution_count": 11,
     "metadata": {},
     "output_type": "execute_result"
    },
    {
     "data": {
      "image/png": "[encoded data removed]",
      "text/plain": [
       "<Figure size 1296x1008 with 6 Axes>"
      ]
     },
     "metadata": {
      "needs_background": "light"
     },
     "output_type": "display_data"
    }
   ],
   "source": [
    "# plotting histograms\n",
    "\n",
    "df.hist(figsize=(18, 14))"
   ]
  },
  {
   "cell_type": "code",
   "execution_count": 12,
   "id": "17944bb2",
   "metadata": {},
   "outputs": [
    {
     "data": {
      "text/plain": [
       "Age              object\n",
       "Condition        object\n",
       "Date             object\n",
       "Drug             object\n",
       "DrugId            int64\n",
       "EaseofUse         int64\n",
       "Effectiveness     int64\n",
       "Reviews          object\n",
       "Satisfaction      int64\n",
       "Sex              object\n",
       "Sides            object\n",
       "UsefulCount       int64\n",
       "dtype: object"
      ]
     },
     "execution_count": 12,
     "metadata": {},
     "output_type": "execute_result"
    }
   ],
   "source": [
    "df.dtypes"
   ]
  },
  {
   "cell_type": "code",
   "execution_count": 13,
   "id": "b76c0b1b",
   "metadata": {},
   "outputs": [
    {
     "data": {
      "text/plain": [
       "Reviews          37\n",
       "Age               0\n",
       "Condition         0\n",
       "Date              0\n",
       "Drug              0\n",
       "DrugId            0\n",
       "EaseofUse         0\n",
       "Effectiveness     0\n",
       "Satisfaction      0\n",
       "Sex               0\n",
       "Sides             0\n",
       "UsefulCount       0\n",
       "dtype: int64"
      ]
     },
     "execution_count": 13,
     "metadata": {},
     "output_type": "execute_result"
    }
   ],
   "source": [
    "df.isnull().sum().sort_values(ascending=False)"
   ]
  },
  {
   "cell_type": "markdown",
   "id": "644ec331",
   "metadata": {},
   "source": [
    "We have only one feature with missing value.that is, there are 37 missing vales in the feature Reviews.Since it is a categorical feature so we will replace it with the mode value. The mode value is the value that appears more than any other value. Hence here we are replacing it with the review that appears the most often.\n"
   ]
  },
  {
   "cell_type": "code",
   "execution_count": 14,
   "id": "db9c3e9d",
   "metadata": {},
   "outputs": [],
   "source": [
    "## For the missing values in the review column, replace it with mode (value that appears most often)\n",
    "\n",
    "df['Reviews'].fillna(df.Reviews.mode().to_string(), inplace=True)"
   ]
  },
  {
   "cell_type": "code",
   "execution_count": 15,
   "id": "3235cecc",
   "metadata": {},
   "outputs": [
    {
     "data": {
      "text/plain": [
       "Age              0\n",
       "Condition        0\n",
       "Date             0\n",
       "Drug             0\n",
       "DrugId           0\n",
       "EaseofUse        0\n",
       "Effectiveness    0\n",
       "Reviews          0\n",
       "Satisfaction     0\n",
       "Sex              0\n",
       "Sides            0\n",
       "UsefulCount      0\n",
       "dtype: int64"
      ]
     },
     "execution_count": 15,
     "metadata": {},
     "output_type": "execute_result"
    }
   ],
   "source": [
    "df.isnull().sum().sort_values(ascending=False)"
   ]
  },
  {
   "cell_type": "markdown",
   "id": "22f3a9f2",
   "metadata": {},
   "source": [
    "# 2. Handling Outliers"
   ]
  },
  {
   "cell_type": "code",
   "execution_count": 16,
   "id": "0b2dab0d",
   "metadata": {},
   "outputs": [
    {
     "data": {
      "image/png": "[encoded data removed]",
      "text/plain": [
       "<Figure size 1080x1080 with 20 Axes>"
      ]
     },
     "metadata": {
      "needs_background": "light"
     },
     "output_type": "display_data"
    }
   ],
   "source": [
    "#plotting boxplot\n",
    "\n",
    "df.plot(kind='box',subplots=True,layout=(4,5),figsize=(15,15),title='Outlier Visualization')\n",
    "plt.show()"
   ]
  },
  {
   "cell_type": "code",
   "execution_count": 17,
   "id": "6a55716c",
   "metadata": {},
   "outputs": [
    {
     "data": {
      "text/plain": [
       "DrugId           29796\n",
       "EaseofUse            1\n",
       "Effectiveness        1\n",
       "Satisfaction         0\n",
       "UsefulCount      23247\n",
       "dtype: int64"
      ]
     },
     "execution_count": 17,
     "metadata": {},
     "output_type": "execute_result"
    }
   ],
   "source": [
    "#finding the 25th percentile and 75th percentile.\n",
    "Q1=df.quantile(0.25)\n",
    "Q3=df.quantile(0.75)\n",
    "\n",
    " #Inter Quantile Range\n",
    "IQR=Q3-Q1\n",
    "\n",
    "#finding lower and upper  bounds for all values.All values outside these bounds are outliers.\n",
    "lower_limit=Q1-1.5*IQR\n",
    "upper_limit=Q3+1.5*IQR\n",
    "#finding the sum of the outliers in each column of int and float types.\n",
    "((df.select_dtypes(include=['float64','int64'])<lower_limit) | (df.select_dtypes(include=['float64','int64'])>upper_limit)).sum()"
   ]
  },
  {
   "cell_type": "markdown",
   "id": "122c7c1f",
   "metadata": {},
   "source": [
    "Outliers are present in four columns.That is ,in DrugID,Easeofuse,Effectiveness,Satisfaction,UsefulCount. \n",
    "But for 'DrugId' and 'UsefulCount', the number of outliers is very large.Thus its removal will affect our problem. \n",
    "Hence we will deal  with columns 'EaseofUse' and 'Effectiveness'. "
   ]
  },
  {
   "cell_type": "markdown",
   "id": "ae580167",
   "metadata": {},
   "source": [
    "# 1. checking the outlier in 'EaseofUse' column"
   ]
  },
  {
   "cell_type": "code",
   "execution_count": 19,
   "id": "a77b126a",
   "metadata": {},
   "outputs": [
    {
     "data": {
      "text/plain": [
       "Text(0.5, 1.0, 'Box plot  of EaseofUse')"
      ]
     },
     "execution_count": 19,
     "metadata": {},
     "output_type": "execute_result"
    },
    {
     "data": {
      "image/png": "[encoded data removed]",
      "text/plain": [
       "<Figure size 432x288 with 1 Axes>"
      ]
     },
     "metadata": {
      "needs_background": "light"
     },
     "output_type": "display_data"
    }
   ],
   "source": [
    "plt.boxplot(df['EaseofUse'])\n",
    "plt.title('Box plot  of EaseofUse')"
   ]
  },
  {
   "cell_type": "code",
   "execution_count": 20,
   "id": "03e2bac8",
   "metadata": {},
   "outputs": [
    {
     "name": "stdout",
     "output_type": "stream",
     "text": [
      "3.0\n",
      "5.0\n",
      "5.0\n",
      "0.0\n",
      "8.0\n"
     ]
    }
   ],
   "source": [
    "Q1=np.percentile(df['EaseofUse'],25,interpolation='midpoint')\n",
    "Q2=np.percentile(df['EaseofUse'],50,interpolation='midpoint')   \n",
    "Q3=np.percentile(df['EaseofUse'],75,interpolation='midpoint')\n",
    "print(Q1)\n",
    "print(Q2)\n",
    "print(Q3) \n",
    "\n",
    "#finding IQR\n",
    "IQR=Q3-Q1\n",
    "low_lim=Q1-1.5*IQR\n",
    "up_lim=Q3+1.5*IQR\n",
    "print(low_lim)          \n",
    "print(up_lim)"
   ]
  },
  {
   "cell_type": "code",
   "execution_count": 21,
   "id": "000c9cd5",
   "metadata": {},
   "outputs": [
    {
     "data": {
      "text/plain": [
       "1"
      ]
     },
     "execution_count": 21,
     "metadata": {},
     "output_type": "execute_result"
    }
   ],
   "source": [
    "#removing outlier using for loop\n",
    "outlier=[]\n",
    "for x in df['EaseofUse']:\n",
    "    if((x>up_lim)or(x<low_lim)):\n",
    "        outlier.append(x)\n",
    "        \n",
    "len(outlier)"
   ]
  },
  {
   "cell_type": "code",
   "execution_count": 22,
   "id": "0233e4ef",
   "metadata": {},
   "outputs": [
    {
     "data": {
      "text/plain": [
       "Text(0.5, 1.0, 'Box plot of EaseofUse')"
      ]
     },
     "execution_count": 22,
     "metadata": {},
     "output_type": "execute_result"
    },
    {
     "data": {
      "image/png": "[encoded data removed]",
      "text/plain": [
       "<Figure size 432x288 with 1 Axes>"
      ]
     },
     "metadata": {
      "needs_background": "light"
     },
     "output_type": "display_data"
    }
   ],
   "source": [
    "#Removing the outliers\n",
    "ind1=df['EaseofUse']>up_lim\n",
    "df.loc[ind1].index\n",
    "df.drop(df.loc[ind1].index,inplace=True)\n",
    "plt.boxplot(df['EaseofUse'])\n",
    "plt.title('Box plot of EaseofUse')"
   ]
  },
  {
   "cell_type": "markdown",
   "id": "73f8b1a6",
   "metadata": {},
   "source": [
    "# 2. checking 'Effectiveness' column"
   ]
  },
  {
   "cell_type": "code",
   "execution_count": 23,
   "id": "83acbe3f",
   "metadata": {},
   "outputs": [
    {
     "data": {
      "text/plain": [
       "Text(0.5, 1.0, 'Box plot  of Effectiveness')"
      ]
     },
     "execution_count": 23,
     "metadata": {},
     "output_type": "execute_result"
    },
    {
     "data": {
      "image/png": "[encoded data removed]",
      "text/plain": [
       "<Figure size 432x288 with 1 Axes>"
      ]
     },
     "metadata": {
      "needs_background": "light"
     },
     "output_type": "display_data"
    }
   ],
   "source": [
    "plt.boxplot(df['Effectiveness'])\n",
    "plt.title('Box plot  of Effectiveness')"
   ]
  },
  {
   "cell_type": "code",
   "execution_count": 24,
   "id": "905a8a68",
   "metadata": {},
   "outputs": [
    {
     "name": "stdout",
     "output_type": "stream",
     "text": [
      "3.0\n",
      "4.0\n",
      "5.0\n",
      "0.0\n",
      "8.0\n"
     ]
    }
   ],
   "source": [
    "Q1=np.percentile(df['Effectiveness'],25,interpolation='midpoint')\n",
    "Q2=np.percentile(df['Effectiveness'],50,interpolation='midpoint')   \n",
    "Q3=np.percentile(df['Effectiveness'],75,interpolation='midpoint')\n",
    "print(Q1)\n",
    "print(Q2)\n",
    "print(Q3) \n",
    "\n",
    "#finding IQR\n",
    "IQR=Q3-Q1\n",
    "low_lim=Q1-1.5*IQR\n",
    "up_lim=Q3+1.5*IQR\n",
    "print(low_lim)          \n",
    "print(up_lim)"
   ]
  },
  {
   "cell_type": "code",
   "execution_count": 25,
   "id": "34964117",
   "metadata": {},
   "outputs": [
    {
     "data": {
      "text/plain": [
       "0"
      ]
     },
     "execution_count": 25,
     "metadata": {},
     "output_type": "execute_result"
    }
   ],
   "source": [
    "#removing outlier using for loop\n",
    "outlier=[]\n",
    "for x in df['Effectiveness']:\n",
    "    if((x>up_lim)or(x<low_lim)):\n",
    "        outlier.append(x)\n",
    "        \n",
    "len(outlier)"
   ]
  },
  {
   "cell_type": "code",
   "execution_count": 26,
   "id": "4a784d52",
   "metadata": {},
   "outputs": [
    {
     "data": {
      "text/plain": [
       "Text(0.5, 1.0, 'Box plot of Effectiveness')"
      ]
     },
     "execution_count": 26,
     "metadata": {},
     "output_type": "execute_result"
    },
    {
     "data": {
      "image/png": "[encoded data removed]",
      "text/plain": [
       "<Figure size 432x288 with 1 Axes>"
      ]
     },
     "metadata": {
      "needs_background": "light"
     },
     "output_type": "display_data"
    }
   ],
   "source": [
    "#Removing the outliers\n",
    "ind1=df['Effectiveness']>up_lim\n",
    "df.loc[ind1].index\n",
    "df.drop(df.loc[ind1].index,inplace=True)\n",
    "plt.boxplot(df['Effectiveness'])\n",
    "plt.title('Box plot of Effectiveness')"
   ]
  },
  {
   "cell_type": "markdown",
   "id": "09a59111",
   "metadata": {},
   "source": [
    "# Feature Reduction"
   ]
  },
  {
   "cell_type": "code",
   "execution_count": 27,
   "id": "859bb2c8",
   "metadata": {},
   "outputs": [],
   "source": [
    "#let's remove the columns Reviews and UsefulCount.Because it is not useful and do not provide any information for our predictive model.\n",
    "\n",
    "df= df.drop([ 'Reviews', 'UsefulCount'],axis=1)\n",
    "\n"
   ]
  },
  {
   "cell_type": "code",
   "execution_count": 30,
   "id": "71286f87",
   "metadata": {},
   "outputs": [
    {
     "data": {
      "text/plain": [
       "(362805, 10)"
      ]
     },
     "execution_count": 30,
     "metadata": {},
     "output_type": "execute_result"
    }
   ],
   "source": [
    "df.shape"
   ]
  },
  {
   "cell_type": "markdown",
   "id": "97445c20",
   "metadata": {},
   "source": [
    "# Correlation Matrix"
   ]
  },
  {
   "cell_type": "code",
   "execution_count": 29,
   "id": "3995ad92",
   "metadata": {},
   "outputs": [
    {
     "data": {
      "image/png": "[encoded data removed]",
      "text/plain": [
       "<Figure size 1296x1008 with 2 Axes>"
      ]
     },
     "metadata": {
      "needs_background": "light"
     },
     "output_type": "display_data"
    }
   ],
   "source": [
    "# plottting the heatmap in order to see the correlation.\n",
    "\n",
    "fig, ax = plt.subplots(figsize=(18,14))\n",
    "sns.heatmap(df.corr(), annot=True, ax=ax);"
   ]
  },
  {
   "cell_type": "code",
   "execution_count": 31,
   "id": "7bd362d6",
   "metadata": {},
   "outputs": [],
   "source": [
    "# Splitting dataset into x and y\n",
    "y = df['Sides']\n",
    "X = df.drop('Sides', axis = 1)"
   ]
  },
  {
   "cell_type": "markdown",
   "id": "3347b948",
   "metadata": {},
   "source": [
    "# Encoding"
   ]
  },
  {
   "cell_type": "code",
   "execution_count": 32,
   "id": "713a2096",
   "metadata": {},
   "outputs": [
    {
     "name": "stdout",
     "output_type": "stream",
     "text": [
      "<class 'pandas.core.frame.DataFrame'>\n",
      "Int64Index: 362805 entries, 0 to 362805\n",
      "Data columns (total 9 columns):\n",
      " #   Column         Non-Null Count   Dtype   \n",
      "---  ------         --------------   -----   \n",
      " 0   Age            362805 non-null  object  \n",
      " 1   Condition      362805 non-null  category\n",
      " 2   Date           362805 non-null  object  \n",
      " 3   Drug           362805 non-null  category\n",
      " 4   DrugId         362805 non-null  int64   \n",
      " 5   EaseofUse      362805 non-null  int64   \n",
      " 6   Effectiveness  362805 non-null  int64   \n",
      " 7   Satisfaction   362805 non-null  int64   \n",
      " 8   Sex            362805 non-null  category\n",
      "dtypes: category(3), int64(4), object(2)\n",
      "memory usage: 29.6+ MB\n"
     ]
    }
   ],
   "source": [
    "category_columns = ['Condition','Drug', 'Sex']\n",
    "X[category_columns] = X[category_columns].astype('category')\n",
    "X.info()"
   ]
  },
  {
   "cell_type": "code",
   "execution_count": 34,
   "id": "cff50e8a",
   "metadata": {},
   "outputs": [],
   "source": [
    "# Performing label encoding to the categorical variables.\n",
    "from sklearn.preprocessing import LabelEncoder\n",
    "le = LabelEncoder()\n",
    "categorical_columns = ['Condition','Drug', 'Sex']\n",
    "for column in categorical_columns:\n",
    "    X[column] = le.fit_transform(X[column])\n"
   ]
  },
  {
   "cell_type": "code",
   "execution_count": 35,
   "id": "13b2788c",
   "metadata": {},
   "outputs": [
    {
     "data": {
      "text/html": [
       "<div>\n",
       "<style scoped>\n",
       "    .dataframe tbody tr th:only-of-type {\n",
       "        vertical-align: middle;\n",
       "    }\n",
       "\n",
       "    .dataframe tbody tr th {\n",
       "        vertical-align: top;\n",
       "    }\n",
       "\n",
       "    .dataframe thead th {\n",
       "        text-align: right;\n",
       "    }\n",
       "</style>\n",
       "<table border=\"1\" class=\"dataframe\">\n",
       "  <thead>\n",
       "    <tr style=\"text-align: right;\">\n",
       "      <th></th>\n",
       "      <th>Age</th>\n",
       "      <th>Condition</th>\n",
       "      <th>Date</th>\n",
       "      <th>Drug</th>\n",
       "      <th>DrugId</th>\n",
       "      <th>EaseofUse</th>\n",
       "      <th>Effectiveness</th>\n",
       "      <th>Satisfaction</th>\n",
       "      <th>Sex</th>\n",
       "    </tr>\n",
       "  </thead>\n",
       "  <tbody>\n",
       "    <tr>\n",
       "      <th>0</th>\n",
       "      <td>75 or over</td>\n",
       "      <td>1596</td>\n",
       "      <td>9/21/2014</td>\n",
       "      <td>4</td>\n",
       "      <td>146724</td>\n",
       "      <td>5</td>\n",
       "      <td>5</td>\n",
       "      <td>5</td>\n",
       "      <td>2</td>\n",
       "    </tr>\n",
       "    <tr>\n",
       "      <th>1</th>\n",
       "      <td>25-34</td>\n",
       "      <td>424</td>\n",
       "      <td>1/13/2011</td>\n",
       "      <td>4</td>\n",
       "      <td>146724</td>\n",
       "      <td>5</td>\n",
       "      <td>5</td>\n",
       "      <td>5</td>\n",
       "      <td>1</td>\n",
       "    </tr>\n",
       "    <tr>\n",
       "      <th>2</th>\n",
       "      <td>65-74</td>\n",
       "      <td>1184</td>\n",
       "      <td>7/16/2012</td>\n",
       "      <td>6866</td>\n",
       "      <td>144731</td>\n",
       "      <td>2</td>\n",
       "      <td>3</td>\n",
       "      <td>3</td>\n",
       "      <td>1</td>\n",
       "    </tr>\n",
       "    <tr>\n",
       "      <th>3</th>\n",
       "      <td>75 or over</td>\n",
       "      <td>1184</td>\n",
       "      <td>9/23/2010</td>\n",
       "      <td>6866</td>\n",
       "      <td>144731</td>\n",
       "      <td>2</td>\n",
       "      <td>2</td>\n",
       "      <td>1</td>\n",
       "      <td>1</td>\n",
       "    </tr>\n",
       "    <tr>\n",
       "      <th>4</th>\n",
       "      <td>35-44</td>\n",
       "      <td>1184</td>\n",
       "      <td>1/6/2009</td>\n",
       "      <td>6866</td>\n",
       "      <td>144731</td>\n",
       "      <td>1</td>\n",
       "      <td>1</td>\n",
       "      <td>1</td>\n",
       "      <td>2</td>\n",
       "    </tr>\n",
       "  </tbody>\n",
       "</table>\n",
       "</div>"
      ],
      "text/plain": [
       "          Age  Condition       Date  Drug  DrugId  EaseofUse  Effectiveness  \\\n",
       "0  75 or over       1596  9/21/2014     4  146724          5              5   \n",
       "1       25-34        424  1/13/2011     4  146724          5              5   \n",
       "2       65-74       1184  7/16/2012  6866  144731          2              3   \n",
       "3  75 or over       1184  9/23/2010  6866  144731          2              2   \n",
       "4       35-44       1184   1/6/2009  6866  144731          1              1   \n",
       "\n",
       "   Satisfaction  Sex  \n",
       "0             5    2  \n",
       "1             5    1  \n",
       "2             3    1  \n",
       "3             1    1  \n",
       "4             1    2  "
      ]
     },
     "execution_count": 35,
     "metadata": {},
     "output_type": "execute_result"
    }
   ],
   "source": [
    "X.head()"
   ]
  },
  {
   "cell_type": "code",
   "execution_count": 36,
   "id": "da945088",
   "metadata": {},
   "outputs": [
    {
     "data": {
      "text/plain": [
       "Age              object\n",
       "Condition        object\n",
       "Date             object\n",
       "Drug             object\n",
       "DrugId            int64\n",
       "EaseofUse         int64\n",
       "Effectiveness     int64\n",
       "Satisfaction      int64\n",
       "Sex              object\n",
       "Sides            object\n",
       "dtype: object"
      ]
     },
     "execution_count": 36,
     "metadata": {},
     "output_type": "execute_result"
    }
   ],
   "source": [
    "df.dtypes"
   ]
  },
  {
   "cell_type": "markdown",
   "id": "46fcc906",
   "metadata": {},
   "source": [
    "We have encoded all the categorical values into numerical form."
   ]
  },
  {
   "cell_type": "code",
   "execution_count": null,
   "id": "0544aaf5",
   "metadata": {},
   "outputs": [],
   "source": []
  }
 ],
 "metadata": {
  "kernelspec": {
   "display_name": "Python 3",
   "language": "python",
   "name": "python3"
  },
  "language_info": {
   "codemirror_mode": {
    "name": "ipython",
    "version": 3
   },
   "file_extension": ".py",
   "mimetype": "text/x-python",
   "name": "python",
   "nbconvert_exporter": "python",
   "pygments_lexer": "ipython3",
   "version": "3.8.8"
  }
 },
 "nbformat": 4,
 "nbformat_minor": 5
}
