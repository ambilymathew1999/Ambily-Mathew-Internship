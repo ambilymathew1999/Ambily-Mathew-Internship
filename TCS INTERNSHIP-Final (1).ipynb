{
 "cells": [
  {
   "cell_type": "markdown",
   "id": "654d8034",
   "metadata": {},
   "source": [
    "# CLASSIFICATION MODEL-Build a model that classifies the side effect of a drug by age,gender."
   ]
  },
  {
   "cell_type": "markdown",
   "id": "de6b2c97",
   "metadata": {},
   "source": [
    "# Importing necessary libraries"
   ]
  },
  {
   "cell_type": "code",
   "execution_count": 1,
   "id": "9779763d",
   "metadata": {},
   "outputs": [],
   "source": [
    "import pandas as pd\n",
    "import numpy as np\n",
    "import matplotlib.pyplot as plt\n",
    "import seaborn as sns"
   ]
  },
  {
   "cell_type": "markdown",
   "id": "f31caeb3",
   "metadata": {},
   "source": [
    "# Read the dataset to python environment "
   ]
  },
  {
   "cell_type": "code",
   "execution_count": 2,
   "id": "5177ab6c",
   "metadata": {},
   "outputs": [
    {
     "data": {
      "text/html": [
       "<div>\n",
       "<style scoped>\n",
       "    .dataframe tbody tr th:only-of-type {\n",
       "        vertical-align: middle;\n",
       "    }\n",
       "\n",
       "    .dataframe tbody tr th {\n",
       "        vertical-align: top;\n",
       "    }\n",
       "\n",
       "    .dataframe thead th {\n",
       "        text-align: right;\n",
       "    }\n",
       "</style>\n",
       "<table border=\"1\" class=\"dataframe\">\n",
       "  <thead>\n",
       "    <tr style=\"text-align: right;\">\n",
       "      <th></th>\n",
       "      <th>Age</th>\n",
       "      <th>Condition</th>\n",
       "      <th>Date</th>\n",
       "      <th>Drug</th>\n",
       "      <th>DrugId</th>\n",
       "      <th>EaseofUse</th>\n",
       "      <th>Effectiveness</th>\n",
       "      <th>Reviews</th>\n",
       "      <th>Satisfaction</th>\n",
       "      <th>Sex</th>\n",
       "      <th>Sides</th>\n",
       "      <th>UsefulCount</th>\n",
       "    </tr>\n",
       "  </thead>\n",
       "  <tbody>\n",
       "    <tr>\n",
       "      <th>0</th>\n",
       "      <td>75 or over</td>\n",
       "      <td>Stuffy Nose</td>\n",
       "      <td>9/21/2014</td>\n",
       "      <td>25dph-7.5peh</td>\n",
       "      <td>146724</td>\n",
       "      <td>5</td>\n",
       "      <td>5</td>\n",
       "      <td>I'm a retired physician and of all the meds I ...</td>\n",
       "      <td>5</td>\n",
       "      <td>Male</td>\n",
       "      <td>Drowsiness,  dizziness ,  dry mouth /nose/thro...</td>\n",
       "      <td>0</td>\n",
       "    </tr>\n",
       "    <tr>\n",
       "      <th>1</th>\n",
       "      <td>25-34</td>\n",
       "      <td>Cold Symptoms</td>\n",
       "      <td>1/13/2011</td>\n",
       "      <td>25dph-7.5peh</td>\n",
       "      <td>146724</td>\n",
       "      <td>5</td>\n",
       "      <td>5</td>\n",
       "      <td>cleared me right up even with my throat hurtin...</td>\n",
       "      <td>5</td>\n",
       "      <td>Female</td>\n",
       "      <td>Drowsiness,  dizziness ,  dry mouth /nose/thro...</td>\n",
       "      <td>1</td>\n",
       "    </tr>\n",
       "    <tr>\n",
       "      <th>2</th>\n",
       "      <td>65-74</td>\n",
       "      <td>Other</td>\n",
       "      <td>7/16/2012</td>\n",
       "      <td>warfarin (bulk) 100 % powder</td>\n",
       "      <td>144731</td>\n",
       "      <td>2</td>\n",
       "      <td>3</td>\n",
       "      <td>why did my PTINR go from a normal of 2.5 to ov...</td>\n",
       "      <td>3</td>\n",
       "      <td>Female</td>\n",
       "      <td></td>\n",
       "      <td>0</td>\n",
       "    </tr>\n",
       "    <tr>\n",
       "      <th>3</th>\n",
       "      <td>75 or over</td>\n",
       "      <td>Other</td>\n",
       "      <td>9/23/2010</td>\n",
       "      <td>warfarin (bulk) 100 % powder</td>\n",
       "      <td>144731</td>\n",
       "      <td>2</td>\n",
       "      <td>2</td>\n",
       "      <td>FALLING AND DON'T REALISE IT</td>\n",
       "      <td>1</td>\n",
       "      <td>Female</td>\n",
       "      <td></td>\n",
       "      <td>0</td>\n",
       "    </tr>\n",
       "    <tr>\n",
       "      <th>4</th>\n",
       "      <td>35-44</td>\n",
       "      <td>Other</td>\n",
       "      <td>1/6/2009</td>\n",
       "      <td>warfarin (bulk) 100 % powder</td>\n",
       "      <td>144731</td>\n",
       "      <td>1</td>\n",
       "      <td>1</td>\n",
       "      <td>My grandfather was prescribed this medication ...</td>\n",
       "      <td>1</td>\n",
       "      <td>Male</td>\n",
       "      <td></td>\n",
       "      <td>1</td>\n",
       "    </tr>\n",
       "  </tbody>\n",
       "</table>\n",
       "</div>"
      ],
      "text/plain": [
       "          Age      Condition       Date                          Drug  DrugId  \\\n",
       "0  75 or over    Stuffy Nose  9/21/2014                  25dph-7.5peh  146724   \n",
       "1       25-34  Cold Symptoms  1/13/2011                  25dph-7.5peh  146724   \n",
       "2       65-74          Other  7/16/2012  warfarin (bulk) 100 % powder  144731   \n",
       "3  75 or over          Other  9/23/2010  warfarin (bulk) 100 % powder  144731   \n",
       "4       35-44          Other   1/6/2009  warfarin (bulk) 100 % powder  144731   \n",
       "\n",
       "   EaseofUse  Effectiveness  \\\n",
       "0          5              5   \n",
       "1          5              5   \n",
       "2          2              3   \n",
       "3          2              2   \n",
       "4          1              1   \n",
       "\n",
       "                                             Reviews  Satisfaction     Sex  \\\n",
       "0  I'm a retired physician and of all the meds I ...             5    Male   \n",
       "1  cleared me right up even with my throat hurtin...             5  Female   \n",
       "2  why did my PTINR go from a normal of 2.5 to ov...             3  Female   \n",
       "3                       FALLING AND DON'T REALISE IT             1  Female   \n",
       "4  My grandfather was prescribed this medication ...             1    Male   \n",
       "\n",
       "                                               Sides  UsefulCount  \n",
       "0  Drowsiness,  dizziness ,  dry mouth /nose/thro...            0  \n",
       "1  Drowsiness,  dizziness ,  dry mouth /nose/thro...            1  \n",
       "2                                                               0  \n",
       "3                                                               0  \n",
       "4                                                               1  "
      ]
     },
     "execution_count": 2,
     "metadata": {},
     "output_type": "execute_result"
    }
   ],
   "source": [
    "df=pd.read_csv('archive.zip')\n",
    "df.head()"
   ]
  },
  {
   "cell_type": "code",
   "execution_count": 3,
   "id": "7460b61e",
   "metadata": {},
   "outputs": [
    {
     "name": "stdout",
     "output_type": "stream",
     "text": [
      "<class 'pandas.core.frame.DataFrame'>\n",
      "RangeIndex: 362806 entries, 0 to 362805\n",
      "Data columns (total 12 columns):\n",
      " #   Column         Non-Null Count   Dtype \n",
      "---  ------         --------------   ----- \n",
      " 0   Age            362806 non-null  object\n",
      " 1   Condition      362806 non-null  object\n",
      " 2   Date           362806 non-null  object\n",
      " 3   Drug           362806 non-null  object\n",
      " 4   DrugId         362806 non-null  int64 \n",
      " 5   EaseofUse      362806 non-null  int64 \n",
      " 6   Effectiveness  362806 non-null  int64 \n",
      " 7   Reviews        362769 non-null  object\n",
      " 8   Satisfaction   362806 non-null  int64 \n",
      " 9   Sex            362806 non-null  object\n",
      " 10  Sides          362806 non-null  object\n",
      " 11  UsefulCount    362806 non-null  int64 \n",
      "dtypes: int64(5), object(7)\n",
      "memory usage: 33.2+ MB\n"
     ]
    }
   ],
   "source": [
    "df.info()"
   ]
  },
  {
   "cell_type": "code",
   "execution_count": 4,
   "id": "7b0b1b88",
   "metadata": {},
   "outputs": [
    {
     "data": {
      "text/plain": [
       "(362806, 12)"
      ]
     },
     "execution_count": 4,
     "metadata": {},
     "output_type": "execute_result"
    }
   ],
   "source": [
    "df.shape"
   ]
  },
  {
   "cell_type": "code",
   "execution_count": 5,
   "id": "d8afa015",
   "metadata": {},
   "outputs": [
    {
     "data": {
      "text/html": [
       "<div>\n",
       "<style scoped>\n",
       "    .dataframe tbody tr th:only-of-type {\n",
       "        vertical-align: middle;\n",
       "    }\n",
       "\n",
       "    .dataframe tbody tr th {\n",
       "        vertical-align: top;\n",
       "    }\n",
       "\n",
       "    .dataframe thead th {\n",
       "        text-align: right;\n",
       "    }\n",
       "</style>\n",
       "<table border=\"1\" class=\"dataframe\">\n",
       "  <thead>\n",
       "    <tr style=\"text-align: right;\">\n",
       "      <th></th>\n",
       "      <th>DrugId</th>\n",
       "      <th>EaseofUse</th>\n",
       "      <th>Effectiveness</th>\n",
       "      <th>Satisfaction</th>\n",
       "      <th>UsefulCount</th>\n",
       "    </tr>\n",
       "  </thead>\n",
       "  <tbody>\n",
       "    <tr>\n",
       "      <th>count</th>\n",
       "      <td>362806.000000</td>\n",
       "      <td>362806.000000</td>\n",
       "      <td>362806.000000</td>\n",
       "      <td>362806.000000</td>\n",
       "      <td>362806.000000</td>\n",
       "    </tr>\n",
       "    <tr>\n",
       "      <th>mean</th>\n",
       "      <td>36879.370774</td>\n",
       "      <td>4.019829</td>\n",
       "      <td>3.532061</td>\n",
       "      <td>3.135408</td>\n",
       "      <td>6.744916</td>\n",
       "    </tr>\n",
       "    <tr>\n",
       "      <th>std</th>\n",
       "      <td>52624.412971</td>\n",
       "      <td>1.317711</td>\n",
       "      <td>1.455961</td>\n",
       "      <td>1.611106</td>\n",
       "      <td>9.324240</td>\n",
       "    </tr>\n",
       "    <tr>\n",
       "      <th>min</th>\n",
       "      <td>1.000000</td>\n",
       "      <td>1.000000</td>\n",
       "      <td>1.000000</td>\n",
       "      <td>1.000000</td>\n",
       "      <td>0.000000</td>\n",
       "    </tr>\n",
       "    <tr>\n",
       "      <th>25%</th>\n",
       "      <td>4896.000000</td>\n",
       "      <td>3.000000</td>\n",
       "      <td>3.000000</td>\n",
       "      <td>1.000000</td>\n",
       "      <td>1.000000</td>\n",
       "    </tr>\n",
       "    <tr>\n",
       "      <th>50%</th>\n",
       "      <td>9548.000000</td>\n",
       "      <td>5.000000</td>\n",
       "      <td>4.000000</td>\n",
       "      <td>3.000000</td>\n",
       "      <td>4.000000</td>\n",
       "    </tr>\n",
       "    <tr>\n",
       "      <th>75%</th>\n",
       "      <td>63522.000000</td>\n",
       "      <td>5.000000</td>\n",
       "      <td>5.000000</td>\n",
       "      <td>5.000000</td>\n",
       "      <td>9.000000</td>\n",
       "    </tr>\n",
       "    <tr>\n",
       "      <th>max</th>\n",
       "      <td>178546.000000</td>\n",
       "      <td>10.000000</td>\n",
       "      <td>10.000000</td>\n",
       "      <td>10.000000</td>\n",
       "      <td>255.000000</td>\n",
       "    </tr>\n",
       "  </tbody>\n",
       "</table>\n",
       "</div>"
      ],
      "text/plain": [
       "              DrugId      EaseofUse  Effectiveness   Satisfaction  \\\n",
       "count  362806.000000  362806.000000  362806.000000  362806.000000   \n",
       "mean    36879.370774       4.019829       3.532061       3.135408   \n",
       "std     52624.412971       1.317711       1.455961       1.611106   \n",
       "min         1.000000       1.000000       1.000000       1.000000   \n",
       "25%      4896.000000       3.000000       3.000000       1.000000   \n",
       "50%      9548.000000       5.000000       4.000000       3.000000   \n",
       "75%     63522.000000       5.000000       5.000000       5.000000   \n",
       "max    178546.000000      10.000000      10.000000      10.000000   \n",
       "\n",
       "         UsefulCount  \n",
       "count  362806.000000  \n",
       "mean        6.744916  \n",
       "std         9.324240  \n",
       "min         0.000000  \n",
       "25%         1.000000  \n",
       "50%         4.000000  \n",
       "75%         9.000000  \n",
       "max       255.000000  "
      ]
     },
     "execution_count": 5,
     "metadata": {},
     "output_type": "execute_result"
    }
   ],
   "source": [
    "df.describe()"
   ]
  },
  {
   "cell_type": "code",
   "execution_count": 6,
   "id": "d5afa265",
   "metadata": {},
   "outputs": [
    {
     "data": {
      "text/plain": [
       "Index(['Age', 'Condition', 'Date', 'Drug', 'DrugId', 'EaseofUse',\n",
       "       'Effectiveness', 'Reviews', 'Satisfaction', 'Sex', 'Sides',\n",
       "       'UsefulCount'],\n",
       "      dtype='object')"
      ]
     },
     "execution_count": 6,
     "metadata": {},
     "output_type": "execute_result"
    }
   ],
   "source": [
    "df.columns"
   ]
  },
  {
   "cell_type": "code",
   "execution_count": 7,
   "id": "0bb7608e",
   "metadata": {},
   "outputs": [
    {
     "data": {
      "text/plain": [
       "Age                  12\n",
       "Condition          1806\n",
       "Date               4524\n",
       "Drug               7093\n",
       "DrugId             6572\n",
       "EaseofUse             7\n",
       "Effectiveness         7\n",
       "Reviews          250167\n",
       "Satisfaction          7\n",
       "Sex                   3\n",
       "Sides              1651\n",
       "UsefulCount         148\n",
       "dtype: int64"
      ]
     },
     "execution_count": 7,
     "metadata": {},
     "output_type": "execute_result"
    }
   ],
   "source": [
    "df.nunique()    # finding the unique values in the columns"
   ]
  },
  {
   "cell_type": "code",
   "execution_count": 8,
   "id": "cc7b5e8e",
   "metadata": {},
   "outputs": [
    {
     "name": "stdout",
     "output_type": "stream",
     "text": [
      "Unique values in Age are :\n",
      "45-54         80043\n",
      "55-64         75136\n",
      "35-44         55011\n",
      "25-34         49718\n",
      "65-74         41216\n",
      "19-24         24230\n",
      "75 or over    15226\n",
      "              12202\n",
      "13-18          7045\n",
      "7-12           1644\n",
      "3-6             838\n",
      "0-2             497\n",
      "Name: Age, dtype: int64\n",
      "**************************************************\n",
      "Unique values in Condition are :\n",
      "Other                                                  49765\n",
      "Pain                                                   25232\n",
      "High Blood Pressure                                    23275\n",
      "Depression                                             14509\n",
      "Birth Control                                          12253\n",
      "                                                       ...  \n",
      "Hereditary Tyrosinemia Type I                              1\n",
      "Pneumonia Acquired from Being Treated In a Hospital        1\n",
      "Anemia due to Depressed Bone Marrow                        1\n",
      "Vomiting in Children due to Acute Gastroenteritis          1\n",
      "Sinus Bradycardia                                          1\n",
      "Name: Condition, Length: 1806, dtype: int64\n",
      "**************************************************\n",
      "Unique values in Date are :\n",
      "10/29/2007    404\n",
      "10/30/2007    316\n",
      "10/28/2007    315\n",
      "3/15/2010     308\n",
      "3/16/2010     295\n",
      "             ... \n",
      "10/19/2019      2\n",
      "10/20/2019      1\n",
      "6/22/2019       1\n",
      "10/27/2019      1\n",
      "6/28/2019       1\n",
      "Name: Date, Length: 4524, dtype: int64\n",
      "**************************************************\n",
      "Unique values in Drug are :\n",
      "cymbalta                     4648\n",
      "lisinopril                   4269\n",
      "lisinopril solution          4269\n",
      "lexapro                      4134\n",
      "hydrocodone-acetaminophen    3944\n",
      "                             ... \n",
      "riax foam                       1\n",
      "cellcept vial                   1\n",
      "hydrocodone-guaifenesin         1\n",
      "syndros                         1\n",
      "men's potent formula            1\n",
      "Name: Drug, Length: 7093, dtype: int64\n",
      "**************************************************\n",
      "Unique values in DrugId are :\n",
      "6873      8538\n",
      "1025      7868\n",
      "6007      7728\n",
      "4398      5864\n",
      "14208     5451\n",
      "          ... \n",
      "2728         1\n",
      "8877         1\n",
      "64438        1\n",
      "158692       1\n",
      "18441        1\n",
      "Name: DrugId, Length: 6572, dtype: int64\n",
      "**************************************************\n",
      "Unique values in EaseofUse are :\n",
      "5     192650\n",
      "4      74732\n",
      "3      41303\n",
      "1      35927\n",
      "2      18191\n",
      "6          2\n",
      "10         1\n",
      "Name: EaseofUse, dtype: int64\n",
      "**************************************************\n",
      "Unique values in Effectiveness are :\n",
      "5     130388\n",
      "4      81821\n",
      "3      60406\n",
      "1      59387\n",
      "2      30801\n",
      "6          2\n",
      "10         1\n",
      "Name: Effectiveness, dtype: int64\n",
      "**************************************************\n",
      "Unique values in Reviews are :\n",
      "                                                                                                                                                                                                                                                                                                                                                                                                                                                                                                                                                                                                                                                                         41824\n",
      "good                                                                                                                                                                                                                                                                                                                                                                                                                                                                                                                                                                                                                                                                       183\n",
      "this treatment is awsome.  I love drugs.                                                                                                                                                                                                                                                                                                                                                                                                                                                                                                                                                                                                                                   172\n",
      "This drug is awesome.  I love drugs.                                                                                                                                                                                                                                                                                                                                                                                                                                                                                                                                                                                                                                       128\n",
      "No Script or health Insurance needed to place and order with 10% discount for all purchased. It was nice to have some from them, I just hit them at. WhatsApp only:+1(775)7735306,\\nCall/Text:+1(775)7735306,\\nWickr or Kik: peterking2014.\\nEmail: peterkings2014@gmail.com.\\nMessage code: (Med16) Discreet Delivery                                                                                                                                                                                                                                                                                                                                                      90\n",
      "                                                                                                                                                                                                                                                                                                                                                                                                                                                                                                                                                                                                                                                                         ...  \n",
      "feeling aggitated,manic,hearing bad voices feeling unable to consintrate restless cant quit moving,feeling like im gonna die, passing blood from bottom im diabetic on metfrmin,atenol,licinipril,insolin 30 units if high,sad scarred to be left alone,                                                                                                                                                                                                                                                                                                                                                                                                                     1\n",
      "The side effect's are Horrible. I feel dizzy, fatigue, nausea, Body ache's, and Head ache's.                                                                                                                                                                                                                                                                                                                                                                                                                                                                                                                                                                                 1\n",
      "good pain relief                                                                                                                                                                                                                                                                                                                                                                                                                                                                                                                                                                                                                                                             1\n",
      "Treated with flagyl for bacterial overgrowth. 2nd day i felt great. Since then horrible. EXTREMELY tired like i could sleep forever and dizzy and had nausea. Is there a better medication for treatment?                                                                                                                                                                                                                                                                                                                                                                                                                                                                    1\n",
      "I had major surgery in my brain stem. I was in terrible pain after the surgery so they decide to put me on continuous pump of morphine. It didn't do a damn thing for the pain, even after they increased the dose and frequency. After 2 hours of suffering in the recovery room they swapped the morphine out for dilaudid and I never looked back. Morphine is useless, I have also had it as an injection in the emergency room many times(I am a chronic pain patient) in the past and I think it relieved my pain for a half an hour the most...the emergency dept always has to give me something else. I think Advil is a better pain reliever than morphine.        1\n",
      "Name: Reviews, Length: 250167, dtype: int64\n",
      "**************************************************\n",
      "Unique values in Satisfaction are :\n",
      "5     111550\n",
      "1     100901\n",
      "4      63158\n",
      "3      51852\n",
      "2      35342\n",
      "6          2\n",
      "10         1\n",
      "Name: Satisfaction, dtype: int64\n",
      "**************************************************\n",
      "Unique values in Sex are :\n",
      "Female    238226\n",
      "Male       98043\n",
      "           26537\n",
      "Name: Sex, dtype: int64\n",
      "**************************************************\n",
      "Unique values in Sides are :\n",
      "                                                                                                                                                    17460\n",
      "Nausea ,  vomiting ,  constipation ,  lightheadedness ,  dizziness , or drowsiness may occur.                                                       15563\n",
      "Nausea ,  vomiting ,  headache ,  bloating ,  breast  tenderness, swelling of the  ankles /feet (fluid retention), or  weight  change may occur.    12116\n",
      "Dizziness ,  lightheadedness , tiredness, or  headache  may occur as your body adjusts to the  medication . Dry  cough  may also occur.              9162\n",
      "Drowsiness,  dizziness , loss of coordination, tiredness, blurred/ double vision , unusual  eye  movements, or shaking (tremor) may occur.           7790\n",
      "                                                                                                                                                    ...  \n",
      "Darkening  skin  or  dry mouth  may occur.                                                                                                              1\n",
      "Tiredness, slow heartbeat,  dizziness , or  lightheadedness  may occur.                                                                                 1\n",
      "Nausea ,  vomiting ,  headache , runny/stuffy nose, nose/throat  itching , or watery  eyes  may occur.                                                  1\n",
      "Drowsiness,  dizziness ,  lightheadedness ,  nausea ,  vomiting , or  constipation  may occur.                                                          1\n",
      "Dizziness ,  diarrhea ,  nausea / vomiting ,  stomach pain , dry/ itchy skin ,  acne , and  dry mouth  may occur.                                       1\n",
      "Name: Sides, Length: 1651, dtype: int64\n",
      "**************************************************\n",
      "Unique values in UsefulCount are :\n",
      "0      71608\n",
      "1      46240\n",
      "2      34701\n",
      "3      27307\n",
      "4      22862\n",
      "       ...  \n",
      "136        1\n",
      "116        1\n",
      "132        1\n",
      "131        1\n",
      "255        1\n",
      "Name: UsefulCount, Length: 148, dtype: int64\n",
      "**************************************************\n"
     ]
    }
   ],
   "source": [
    "for i in df.columns:\n",
    "    print('Unique values in',i, 'are :')\n",
    "    print(df[i].value_counts())\n",
    "    print('*'*50)"
   ]
  },
  {
   "cell_type": "markdown",
   "id": "00721966",
   "metadata": {},
   "source": [
    "# EDA"
   ]
  },
  {
   "cell_type": "code",
   "execution_count": 9,
   "id": "16b9494c",
   "metadata": {},
   "outputs": [
    {
     "name": "stdout",
     "output_type": "stream",
     "text": [
      "98043\n",
      "238226\n"
     ]
    }
   ],
   "source": [
    "cn1= int (0)\n",
    "cn2= int (0)\n",
    "for i in df['Sex']:\n",
    "  if i=='Male':\n",
    "    cn1+=1\n",
    "  elif i=='Female':\n",
    "    cn2+=1\n",
    "print(cn1)\n",
    "print(cn2)"
   ]
  },
  {
   "cell_type": "code",
   "execution_count": 10,
   "id": "cd50c939",
   "metadata": {},
   "outputs": [
    {
     "data": {
      "image/png": "[encoded data removed]",
      "text/plain": [
       "<Figure size 432x288 with 1 Axes>"
      ]
     },
     "metadata": {},
     "output_type": "display_data"
    }
   ],
   "source": [
    "y=np.array([cn1,cn2])\n",
    "mylabels = [\"Male\",\"Female\"]\n",
    "plt.pie(y,labels = mylabels, startangle = 90)\n",
    "plt.show() "
   ]
  },
  {
   "cell_type": "markdown",
   "id": "68ca0852",
   "metadata": {},
   "source": [
    "From this graph it is clear that female patients are more"
   ]
  },
  {
   "cell_type": "code",
   "execution_count": 11,
   "id": "9eadac55",
   "metadata": {},
   "outputs": [
    {
     "data": {
      "image/png": "[encoded data removed]",
      "text/plain": [
       "<Figure size 1080x432 with 1 Axes>"
      ]
     },
     "metadata": {},
     "output_type": "display_data"
    }
   ],
   "source": [
    "import seaborn as sns\n",
    "sns.set_theme(style=\"whitegrid\")\n",
    "plt.figure(figsize=(15,6))\n",
    "ax = sns.barplot(x=\"Age\", y=\"Effectiveness\", data=df)\n"
   ]
  },
  {
   "cell_type": "markdown",
   "id": "6bee7f9b",
   "metadata": {},
   "source": [
    "From this graph the drug is more effective to patients in the age group 19-24 and less effective with age group 3-6 and 75 or above "
   ]
  },
  {
   "cell_type": "code",
   "execution_count": 12,
   "id": "4ff09f08",
   "metadata": {
    "scrolled": true
   },
   "outputs": [
    {
     "data": {
      "image/png": "[encoded data removed]",
      "text/plain": [
       "<Figure size 1080x432 with 1 Axes>"
      ]
     },
     "metadata": {},
     "output_type": "display_data"
    }
   ],
   "source": [
    "import seaborn as sns\n",
    "sns.set_theme(style=\"whitegrid\")\n",
    "plt.figure(figsize=(15,6))\n",
    "ax = sns.barplot(x=\"Age\", y=\"Satisfaction\", data=df)"
   ]
  },
  {
   "cell_type": "markdown",
   "id": "c8422695",
   "metadata": {},
   "source": [
    "From this graph the drug is more satisfied with age group 35-44 and less satisfied with age group 0-2."
   ]
  },
  {
   "cell_type": "code",
   "execution_count": 13,
   "id": "de9fe503",
   "metadata": {
    "scrolled": true
   },
   "outputs": [
    {
     "data": {
      "image/png": "[encoded data removed]",
      "text/plain": [
       "<Figure size 1440x504 with 1 Axes>"
      ]
     },
     "metadata": {},
     "output_type": "display_data"
    }
   ],
   "source": [
    "import matplotlib.pyplot as plt\n",
    "#fig = plt.figure(figsize =(100, 7))\n",
    "df.plot(x=\"Drug\", y=[\"EaseofUse\"],figsize =(20, 7), fontsize=10)\n",
    "plt.xlabel(\"Drug\")\n",
    "plt.ylabel(\"EaseofUse\")\n",
    "plt.title(\"Ease of use of Drug\")\n",
    "plt.show()"
   ]
  },
  {
   "cell_type": "markdown",
   "id": "7cd4915b",
   "metadata": {},
   "source": [
    "# DATA PRE-PROCESSING"
   ]
  },
  {
   "cell_type": "markdown",
   "id": "8cb56f0e",
   "metadata": {},
   "source": [
    "# 1. Handling Null Values"
   ]
  },
  {
   "cell_type": "code",
   "execution_count": 14,
   "id": "4dfa5418",
   "metadata": {},
   "outputs": [
    {
     "data": {
      "text/plain": [
       "array([[<AxesSubplot:title={'center':'DrugId'}>,\n",
       "        <AxesSubplot:title={'center':'EaseofUse'}>],\n",
       "       [<AxesSubplot:title={'center':'Effectiveness'}>,\n",
       "        <AxesSubplot:title={'center':'Satisfaction'}>],\n",
       "       [<AxesSubplot:title={'center':'UsefulCount'}>, <AxesSubplot:>]],\n",
       "      dtype=object)"
      ]
     },
     "execution_count": 14,
     "metadata": {},
     "output_type": "execute_result"
    },
    {
     "data": {
      "image/png": "[encoded data removed]",
      "text/plain": [
       "<Figure size 1296x1008 with 6 Axes>"
      ]
     },
     "metadata": {},
     "output_type": "display_data"
    }
   ],
   "source": [
    "# plotting histograms\n",
    "\n",
    "df.hist(figsize=(18, 14))"
   ]
  },
  {
   "cell_type": "code",
   "execution_count": 15,
   "id": "17944bb2",
   "metadata": {},
   "outputs": [
    {
     "data": {
      "text/plain": [
       "Age              object\n",
       "Condition        object\n",
       "Date             object\n",
       "Drug             object\n",
       "DrugId            int64\n",
       "EaseofUse         int64\n",
       "Effectiveness     int64\n",
       "Reviews          object\n",
       "Satisfaction      int64\n",
       "Sex              object\n",
       "Sides            object\n",
       "UsefulCount       int64\n",
       "dtype: object"
      ]
     },
     "execution_count": 15,
     "metadata": {},
     "output_type": "execute_result"
    }
   ],
   "source": [
    "df.dtypes"
   ]
  },
  {
   "cell_type": "code",
   "execution_count": 16,
   "id": "b76c0b1b",
   "metadata": {},
   "outputs": [
    {
     "data": {
      "text/plain": [
       "Reviews          37\n",
       "Age               0\n",
       "Condition         0\n",
       "Date              0\n",
       "Drug              0\n",
       "DrugId            0\n",
       "EaseofUse         0\n",
       "Effectiveness     0\n",
       "Satisfaction      0\n",
       "Sex               0\n",
       "Sides             0\n",
       "UsefulCount       0\n",
       "dtype: int64"
      ]
     },
     "execution_count": 16,
     "metadata": {},
     "output_type": "execute_result"
    }
   ],
   "source": [
    "df.isnull().sum().sort_values(ascending=False)"
   ]
  },
  {
   "cell_type": "markdown",
   "id": "644ec331",
   "metadata": {},
   "source": [
    "We have only one feature with missing value.that is, there are 37 missing vales in the feature Reviews.Since it is a categorical feature so we will replace it with the mode value. The mode value is the value that appears more than any other value. Hence here we are replacing it with the review that appears the most often.\n"
   ]
  },
  {
   "cell_type": "code",
   "execution_count": 17,
   "id": "db9c3e9d",
   "metadata": {},
   "outputs": [],
   "source": [
    "## For the missing values in the review column, replace it with mode (value that appears most often)\n",
    "\n",
    "df['Reviews'].fillna(df.Reviews.mode().to_string(), inplace=True)"
   ]
  },
  {
   "cell_type": "code",
   "execution_count": 18,
   "id": "3235cecc",
   "metadata": {},
   "outputs": [
    {
     "data": {
      "text/plain": [
       "Age              0\n",
       "Condition        0\n",
       "Date             0\n",
       "Drug             0\n",
       "DrugId           0\n",
       "EaseofUse        0\n",
       "Effectiveness    0\n",
       "Reviews          0\n",
       "Satisfaction     0\n",
       "Sex              0\n",
       "Sides            0\n",
       "UsefulCount      0\n",
       "dtype: int64"
      ]
     },
     "execution_count": 18,
     "metadata": {},
     "output_type": "execute_result"
    }
   ],
   "source": [
    "df.isnull().sum().sort_values(ascending=False)"
   ]
  },
  {
   "cell_type": "markdown",
   "id": "22f3a9f2",
   "metadata": {},
   "source": [
    "# 2. Handling Outliers"
   ]
  },
  {
   "cell_type": "code",
   "execution_count": 19,
   "id": "0b2dab0d",
   "metadata": {},
   "outputs": [
    {
     "data": {
      "image/png": "[encoded data removed]",
      "text/plain": [
       "<Figure size 1080x1080 with 20 Axes>"
      ]
     },
     "metadata": {},
     "output_type": "display_data"
    }
   ],
   "source": [
    "#plotting boxplot\n",
    "\n",
    "df.plot(kind='box',subplots=True,layout=(4,5),figsize=(15,15),title='Outlier Visualization')\n",
    "plt.show()"
   ]
  },
  {
   "cell_type": "code",
   "execution_count": 20,
   "id": "6a55716c",
   "metadata": {},
   "outputs": [
    {
     "data": {
      "text/plain": [
       "DrugId           29796\n",
       "EaseofUse            1\n",
       "Effectiveness        1\n",
       "Satisfaction         0\n",
       "UsefulCount      23247\n",
       "dtype: int64"
      ]
     },
     "execution_count": 20,
     "metadata": {},
     "output_type": "execute_result"
    }
   ],
   "source": [
    "#finding the 25th percentile and 75th percentile.\n",
    "Q1=df.quantile(0.25)\n",
    "Q3=df.quantile(0.75)\n",
    "\n",
    " #Inter Quantile Range\n",
    "IQR=Q3-Q1\n",
    "\n",
    "#finding lower and upper  bounds for all values.All values outside these bounds are outliers.\n",
    "lower_limit=Q1-1.5*IQR\n",
    "upper_limit=Q3+1.5*IQR\n",
    "#finding the sum of the outliers in each column of int and float types.\n",
    "((df.select_dtypes(include=['float64','int64'])<lower_limit) | (df.select_dtypes(include=['float64','int64'])>upper_limit)).sum()"
   ]
  },
  {
   "cell_type": "markdown",
   "id": "122c7c1f",
   "metadata": {},
   "source": [
    "Outliers are present in four columns.That is ,in DrugID,Easeofuse,Effectiveness,Satisfaction,UsefulCount. \n",
    "But for 'DrugId' and 'UsefulCount', the number of outliers is very large.Thus its removal will affect our problem. \n",
    "Hence we will deal  with columns 'EaseofUse' and 'Effectiveness'. "
   ]
  },
  {
   "cell_type": "markdown",
   "id": "ae580167",
   "metadata": {},
   "source": [
    "# 1. checking the outlier in 'EaseofUse' column"
   ]
  },
  {
   "cell_type": "code",
   "execution_count": 21,
   "id": "a77b126a",
   "metadata": {},
   "outputs": [
    {
     "data": {
      "text/plain": [
       "Text(0.5, 1.0, 'Box plot  of EaseofUse')"
      ]
     },
     "execution_count": 21,
     "metadata": {},
     "output_type": "execute_result"
    },
    {
     "data": {
      "image/png": "[encoded data removed]",
      "text/plain": [
       "<Figure size 432x288 with 1 Axes>"
      ]
     },
     "metadata": {},
     "output_type": "display_data"
    }
   ],
   "source": [
    "plt.boxplot(df['EaseofUse'])\n",
    "plt.title('Box plot  of EaseofUse')"
   ]
  },
  {
   "cell_type": "code",
   "execution_count": 22,
   "id": "03e2bac8",
   "metadata": {},
   "outputs": [
    {
     "name": "stdout",
     "output_type": "stream",
     "text": [
      "3.0\n",
      "5.0\n",
      "5.0\n",
      "0.0\n",
      "8.0\n"
     ]
    }
   ],
   "source": [
    "Q1=np.percentile(df['EaseofUse'],25,interpolation='midpoint')\n",
    "Q2=np.percentile(df['EaseofUse'],50,interpolation='midpoint')   \n",
    "Q3=np.percentile(df['EaseofUse'],75,interpolation='midpoint')\n",
    "print(Q1)\n",
    "print(Q2)\n",
    "print(Q3) \n",
    "\n",
    "#finding IQR\n",
    "IQR=Q3-Q1\n",
    "low_lim=Q1-1.5*IQR\n",
    "up_lim=Q3+1.5*IQR\n",
    "print(low_lim)          \n",
    "print(up_lim)"
   ]
  },
  {
   "cell_type": "code",
   "execution_count": 23,
   "id": "000c9cd5",
   "metadata": {},
   "outputs": [
    {
     "data": {
      "text/plain": [
       "1"
      ]
     },
     "execution_count": 23,
     "metadata": {},
     "output_type": "execute_result"
    }
   ],
   "source": [
    "#removing outlier using for loop\n",
    "outlier=[]\n",
    "for x in df['EaseofUse']:\n",
    "    if((x>up_lim)or(x<low_lim)):\n",
    "        outlier.append(x)\n",
    "        \n",
    "len(outlier)"
   ]
  },
  {
   "cell_type": "code",
   "execution_count": 24,
   "id": "0233e4ef",
   "metadata": {},
   "outputs": [
    {
     "data": {
      "text/plain": [
       "Text(0.5, 1.0, 'Box plot of EaseofUse')"
      ]
     },
     "execution_count": 24,
     "metadata": {},
     "output_type": "execute_result"
    },
    {
     "data": {
      "image/png": "[encoded data removed]",
      "text/plain": [
       "<Figure size 432x288 with 1 Axes>"
      ]
     },
     "metadata": {},
     "output_type": "display_data"
    }
   ],
   "source": [
    "#Removing the outliers\n",
    "ind1=df['EaseofUse']>up_lim\n",
    "df.loc[ind1].index\n",
    "df.drop(df.loc[ind1].index,inplace=True)\n",
    "plt.boxplot(df['EaseofUse'])\n",
    "plt.title('Box plot of EaseofUse')"
   ]
  },
  {
   "cell_type": "markdown",
   "id": "73f8b1a6",
   "metadata": {},
   "source": [
    "# 2. checking 'Effectiveness' column"
   ]
  },
  {
   "cell_type": "code",
   "execution_count": 25,
   "id": "83acbe3f",
   "metadata": {},
   "outputs": [
    {
     "data": {
      "text/plain": [
       "Text(0.5, 1.0, 'Box plot  of Effectiveness')"
      ]
     },
     "execution_count": 25,
     "metadata": {},
     "output_type": "execute_result"
    },
    {
     "data": {
      "image/png": "[encoded data removed]",
      "text/plain": [
       "<Figure size 432x288 with 1 Axes>"
      ]
     },
     "metadata": {},
     "output_type": "display_data"
    }
   ],
   "source": [
    "plt.boxplot(df['Effectiveness'])\n",
    "plt.title('Box plot  of Effectiveness')"
   ]
  },
  {
   "cell_type": "code",
   "execution_count": 26,
   "id": "905a8a68",
   "metadata": {},
   "outputs": [
    {
     "name": "stdout",
     "output_type": "stream",
     "text": [
      "3.0\n",
      "4.0\n",
      "5.0\n",
      "0.0\n",
      "8.0\n"
     ]
    }
   ],
   "source": [
    "Q1=np.percentile(df['Effectiveness'],25,interpolation='midpoint')\n",
    "Q2=np.percentile(df['Effectiveness'],50,interpolation='midpoint')   \n",
    "Q3=np.percentile(df['Effectiveness'],75,interpolation='midpoint')\n",
    "print(Q1)\n",
    "print(Q2)\n",
    "print(Q3) \n",
    "\n",
    "#finding IQR\n",
    "IQR=Q3-Q1\n",
    "low_lim=Q1-1.5*IQR\n",
    "up_lim=Q3+1.5*IQR\n",
    "print(low_lim)          \n",
    "print(up_lim)"
   ]
  },
  {
   "cell_type": "code",
   "execution_count": 27,
   "id": "34964117",
   "metadata": {},
   "outputs": [
    {
     "data": {
      "text/plain": [
       "0"
      ]
     },
     "execution_count": 27,
     "metadata": {},
     "output_type": "execute_result"
    }
   ],
   "source": [
    "#removing outlier using for loop\n",
    "outlier=[]\n",
    "for x in df['Effectiveness']:\n",
    "    if((x>up_lim)or(x<low_lim)):\n",
    "        outlier.append(x)\n",
    "        \n",
    "len(outlier)"
   ]
  },
  {
   "cell_type": "code",
   "execution_count": 28,
   "id": "4a784d52",
   "metadata": {},
   "outputs": [
    {
     "data": {
      "text/plain": [
       "Text(0.5, 1.0, 'Box plot of Effectiveness')"
      ]
     },
     "execution_count": 28,
     "metadata": {},
     "output_type": "execute_result"
    },
    {
     "data": {
      "image/png": "[encoded data removed]",
      "text/plain": [
       "<Figure size 432x288 with 1 Axes>"
      ]
     },
     "metadata": {},
     "output_type": "display_data"
    }
   ],
   "source": [
    "#Removing the outliers\n",
    "ind1=df['Effectiveness']>up_lim\n",
    "df.loc[ind1].index\n",
    "df.drop(df.loc[ind1].index,inplace=True)\n",
    "plt.boxplot(df['Effectiveness'])\n",
    "plt.title('Box plot of Effectiveness')"
   ]
  },
  {
   "cell_type": "markdown",
   "id": "09a59111",
   "metadata": {},
   "source": [
    "# Feature Reduction"
   ]
  },
  {
   "cell_type": "code",
   "execution_count": 29,
   "id": "859bb2c8",
   "metadata": {},
   "outputs": [],
   "source": [
    "#let's remove the columns Reviews and UsefulCount.Because it is not useful and do not provide any information for our predictive model.\n",
    "\n",
    "df= df.drop([ 'Reviews', 'UsefulCount','Date'],axis=1)\n",
    "\n"
   ]
  },
  {
   "cell_type": "code",
   "execution_count": 30,
   "id": "71286f87",
   "metadata": {},
   "outputs": [
    {
     "data": {
      "text/plain": [
       "(362805, 9)"
      ]
     },
     "execution_count": 30,
     "metadata": {},
     "output_type": "execute_result"
    }
   ],
   "source": [
    "df.shape"
   ]
  },
  {
   "cell_type": "markdown",
   "id": "97445c20",
   "metadata": {},
   "source": [
    "# Correlation Matrix"
   ]
  },
  {
   "cell_type": "code",
   "execution_count": 31,
   "id": "3995ad92",
   "metadata": {},
   "outputs": [
    {
     "data": {
      "image/png": "[encoded data removed]",
      "text/plain": [
       "<Figure size 1296x1008 with 2 Axes>"
      ]
     },
     "metadata": {},
     "output_type": "display_data"
    }
   ],
   "source": [
    "# plottting the heatmap in order to see the correlation.\n",
    "\n",
    "fig, ax = plt.subplots(figsize=(18,14))\n",
    "sns.heatmap(df.corr(), annot=True, ax=ax);"
   ]
  },
  {
   "cell_type": "markdown",
   "id": "3347b948",
   "metadata": {},
   "source": [
    "# Encoding"
   ]
  },
  {
   "cell_type": "code",
   "execution_count": 32,
   "id": "713a2096",
   "metadata": {},
   "outputs": [
    {
     "name": "stdout",
     "output_type": "stream",
     "text": [
      "<class 'pandas.core.frame.DataFrame'>\n",
      "Int64Index: 362805 entries, 0 to 362805\n",
      "Data columns (total 9 columns):\n",
      " #   Column         Non-Null Count   Dtype   \n",
      "---  ------         --------------   -----   \n",
      " 0   Age            362805 non-null  category\n",
      " 1   Condition      362805 non-null  category\n",
      " 2   Drug           362805 non-null  category\n",
      " 3   DrugId         362805 non-null  int64   \n",
      " 4   EaseofUse      362805 non-null  int64   \n",
      " 5   Effectiveness  362805 non-null  int64   \n",
      " 6   Satisfaction   362805 non-null  int64   \n",
      " 7   Sex            362805 non-null  category\n",
      " 8   Sides          362805 non-null  object  \n",
      "dtypes: category(4), int64(4), object(1)\n",
      "memory usage: 27.1+ MB\n"
     ]
    }
   ],
   "source": [
    "category_columns = ['Condition','Drug', 'Sex','Age']\n",
    "df[category_columns] = df[category_columns].astype('category')\n",
    "df.info()"
   ]
  },
  {
   "cell_type": "code",
   "execution_count": 33,
   "id": "cff50e8a",
   "metadata": {},
   "outputs": [],
   "source": [
    "# Performing label encoding to the categorical variables.\n",
    "from sklearn.preprocessing import LabelEncoder\n",
    "le = LabelEncoder()\n",
    "categorical_columns = ['Condition','Drug', 'Sex','Age']\n",
    "for column in categorical_columns:\n",
    "   df[column] = le.fit_transform(df[column])\n"
   ]
  },
  {
   "cell_type": "code",
   "execution_count": 34,
   "id": "13b2788c",
   "metadata": {},
   "outputs": [
    {
     "data": {
      "text/html": [
       "<div>\n",
       "<style scoped>\n",
       "    .dataframe tbody tr th:only-of-type {\n",
       "        vertical-align: middle;\n",
       "    }\n",
       "\n",
       "    .dataframe tbody tr th {\n",
       "        vertical-align: top;\n",
       "    }\n",
       "\n",
       "    .dataframe thead th {\n",
       "        text-align: right;\n",
       "    }\n",
       "</style>\n",
       "<table border=\"1\" class=\"dataframe\">\n",
       "  <thead>\n",
       "    <tr style=\"text-align: right;\">\n",
       "      <th></th>\n",
       "      <th>Age</th>\n",
       "      <th>Condition</th>\n",
       "      <th>Drug</th>\n",
       "      <th>DrugId</th>\n",
       "      <th>EaseofUse</th>\n",
       "      <th>Effectiveness</th>\n",
       "      <th>Satisfaction</th>\n",
       "      <th>Sex</th>\n",
       "      <th>Sides</th>\n",
       "    </tr>\n",
       "  </thead>\n",
       "  <tbody>\n",
       "    <tr>\n",
       "      <th>0</th>\n",
       "      <td>11</td>\n",
       "      <td>1596</td>\n",
       "      <td>4</td>\n",
       "      <td>146724</td>\n",
       "      <td>5</td>\n",
       "      <td>5</td>\n",
       "      <td>5</td>\n",
       "      <td>2</td>\n",
       "      <td>Drowsiness,  dizziness ,  dry mouth /nose/thro...</td>\n",
       "    </tr>\n",
       "    <tr>\n",
       "      <th>1</th>\n",
       "      <td>4</td>\n",
       "      <td>424</td>\n",
       "      <td>4</td>\n",
       "      <td>146724</td>\n",
       "      <td>5</td>\n",
       "      <td>5</td>\n",
       "      <td>5</td>\n",
       "      <td>1</td>\n",
       "      <td>Drowsiness,  dizziness ,  dry mouth /nose/thro...</td>\n",
       "    </tr>\n",
       "    <tr>\n",
       "      <th>2</th>\n",
       "      <td>9</td>\n",
       "      <td>1184</td>\n",
       "      <td>6866</td>\n",
       "      <td>144731</td>\n",
       "      <td>2</td>\n",
       "      <td>3</td>\n",
       "      <td>3</td>\n",
       "      <td>1</td>\n",
       "      <td></td>\n",
       "    </tr>\n",
       "    <tr>\n",
       "      <th>3</th>\n",
       "      <td>11</td>\n",
       "      <td>1184</td>\n",
       "      <td>6866</td>\n",
       "      <td>144731</td>\n",
       "      <td>2</td>\n",
       "      <td>2</td>\n",
       "      <td>1</td>\n",
       "      <td>1</td>\n",
       "      <td></td>\n",
       "    </tr>\n",
       "    <tr>\n",
       "      <th>4</th>\n",
       "      <td>6</td>\n",
       "      <td>1184</td>\n",
       "      <td>6866</td>\n",
       "      <td>144731</td>\n",
       "      <td>1</td>\n",
       "      <td>1</td>\n",
       "      <td>1</td>\n",
       "      <td>2</td>\n",
       "      <td></td>\n",
       "    </tr>\n",
       "  </tbody>\n",
       "</table>\n",
       "</div>"
      ],
      "text/plain": [
       "   Age  Condition  Drug  DrugId  EaseofUse  Effectiveness  Satisfaction  Sex  \\\n",
       "0   11       1596     4  146724          5              5             5    2   \n",
       "1    4        424     4  146724          5              5             5    1   \n",
       "2    9       1184  6866  144731          2              3             3    1   \n",
       "3   11       1184  6866  144731          2              2             1    1   \n",
       "4    6       1184  6866  144731          1              1             1    2   \n",
       "\n",
       "                                               Sides  \n",
       "0  Drowsiness,  dizziness ,  dry mouth /nose/thro...  \n",
       "1  Drowsiness,  dizziness ,  dry mouth /nose/thro...  \n",
       "2                                                     \n",
       "3                                                     \n",
       "4                                                     "
      ]
     },
     "execution_count": 34,
     "metadata": {},
     "output_type": "execute_result"
    }
   ],
   "source": [
    "df.head()"
   ]
  },
  {
   "cell_type": "code",
   "execution_count": 35,
   "id": "da945088",
   "metadata": {},
   "outputs": [
    {
     "data": {
      "text/plain": [
       "Age               int32\n",
       "Condition         int32\n",
       "Drug              int32\n",
       "DrugId            int64\n",
       "EaseofUse         int64\n",
       "Effectiveness     int64\n",
       "Satisfaction      int64\n",
       "Sex               int32\n",
       "Sides            object\n",
       "dtype: object"
      ]
     },
     "execution_count": 35,
     "metadata": {},
     "output_type": "execute_result"
    }
   ],
   "source": [
    "df.dtypes"
   ]
  },
  {
   "cell_type": "markdown",
   "id": "46fcc906",
   "metadata": {},
   "source": [
    "We have encoded all the categorical values into numerical form."
   ]
  },
  {
   "cell_type": "markdown",
   "id": "9d0e4d23",
   "metadata": {},
   "source": [
    "# Feature Scaling-StandardScaler"
   ]
  },
  {
   "cell_type": "code",
   "execution_count": 36,
   "id": "ac2bf5a5",
   "metadata": {},
   "outputs": [],
   "source": [
    "# Splitting dataset into x and y\n",
    "y = df['Sides']\n",
    "X = df.drop('Sides', axis = 1)"
   ]
  },
  {
   "cell_type": "code",
   "execution_count": 37,
   "id": "6b7857fe",
   "metadata": {},
   "outputs": [],
   "source": [
    "from sklearn import preprocessing\n",
    "standardisation = preprocessing.StandardScaler()\n",
    "X = standardisation.fit_transform(X)"
   ]
  },
  {
   "cell_type": "markdown",
   "id": "247d8974",
   "metadata": {},
   "source": [
    "# MODELING"
   ]
  },
  {
   "cell_type": "code",
   "execution_count": 38,
   "id": "82879a2b",
   "metadata": {},
   "outputs": [],
   "source": [
    "# Splitting dataset into x and y\n",
    "y = df['Sides']\n",
    "X = df.drop('Sides', axis = 1)"
   ]
  },
  {
   "cell_type": "code",
   "execution_count": 39,
   "id": "7c40e99a",
   "metadata": {},
   "outputs": [],
   "source": [
    "from sklearn.model_selection import train_test_split\n",
    "X_train,X_test,y_train,y_test=train_test_split(X,y,random_state=42,test_size=0.2)"
   ]
  },
  {
   "cell_type": "code",
   "execution_count": 40,
   "id": "06618779",
   "metadata": {},
   "outputs": [
    {
     "data": {
      "text/plain": [
       "(290244, 8)"
      ]
     },
     "execution_count": 40,
     "metadata": {},
     "output_type": "execute_result"
    }
   ],
   "source": [
    "X_train.shape"
   ]
  },
  {
   "cell_type": "markdown",
   "id": "56d89772",
   "metadata": {},
   "source": [
    "# LOGISTIC REGRESSION"
   ]
  },
  {
   "cell_type": "code",
   "execution_count": 41,
   "id": "3ba5b937",
   "metadata": {},
   "outputs": [
    {
     "name": "stdout",
     "output_type": "stream",
     "text": [
      "Mean Accuracy:0.681(0.042)\n"
     ]
    }
   ],
   "source": [
    "from numpy import mean\n",
    "from numpy import std\n",
    "from sklearn.datasets import make_classification\n",
    "from sklearn.model_selection import cross_val_score\n",
    "from sklearn.model_selection import RepeatedStratifiedKFold\n",
    "from sklearn.linear_model import LogisticRegression\n",
    "X,y=make_classification(n_samples=1000,n_features=10,n_informative=5,n_redundant=5,n_classes=3,random_state=1)\n",
    "model=LogisticRegression(multi_class='multinomial',solver='lbfgs')\n",
    "cv=RepeatedStratifiedKFold(n_splits=10,n_repeats=3,random_state=1)\n",
    "n_scores=cross_val_score(model,X,y,scoring='accuracy',cv=cv,n_jobs=1)\n",
    "print('Mean Accuracy:%.3f(%.3f)'%(mean(n_scores),std(n_scores)))"
   ]
  },
  {
   "cell_type": "markdown",
   "id": "b9ff8d86",
   "metadata": {},
   "source": [
    "# KNN"
   ]
  },
  {
   "cell_type": "code",
   "execution_count": 42,
   "id": "15a67e84",
   "metadata": {},
   "outputs": [],
   "source": [
    "from sklearn.linear_model import LogisticRegression\n",
    "from sklearn.model_selection import train_test_split\n",
    "from sklearn import linear_model\n",
    "from sklearn.metrics import confusion_matrix,classification_report,accuracy_score, precision_score\n",
    "from sklearn.metrics import plot_confusion_matrix"
   ]
  },
  {
   "cell_type": "code",
   "execution_count": 43,
   "id": "3fb0c0dc",
   "metadata": {},
   "outputs": [],
   "source": [
    "from sklearn.neighbors import KNeighborsClassifier"
   ]
  },
  {
   "cell_type": "code",
   "execution_count": 44,
   "id": "ff1becfd",
   "metadata": {},
   "outputs": [
    {
     "data": {
      "text/plain": [
       "[0.9597304337040559,\n",
       " 0.9554857292484944,\n",
       " 0.9563264012348232,\n",
       " 0.9522332933669602,\n",
       " 0.9516544700321109,\n",
       " 0.9474097655765494,\n",
       " 0.9456319510480837,\n",
       " 0.942710271357892,\n",
       " 0.9411667424649606,\n",
       " 0.939071953253125,\n",
       " 0.9374870798362757,\n",
       " 0.9349512823693169]"
      ]
     },
     "execution_count": 44,
     "metadata": {},
     "output_type": "execute_result"
    }
   ],
   "source": [
    "# Identifty the best values for n_neighbors\n",
    "acc_values = []\n",
    "neighbors = np.arange(3,15)\n",
    "for k in neighbors:\n",
    "    kncdf = KNeighborsClassifier(n_neighbors=k,metric=\"minkowski\")\n",
    "    model = kncdf.fit(X_train,y_train)\n",
    "    predictions = model.predict(X_test)\n",
    "    acc_values.append(accuracy_score(y_test, predictions))\n",
    "    \n",
    "acc_values"
   ]
  },
  {
   "cell_type": "code",
   "execution_count": 45,
   "id": "f2478d28",
   "metadata": {},
   "outputs": [
    {
     "data": {
      "text/plain": [
       "Text(0, 0.5, 'Accuracy')"
      ]
     },
     "execution_count": 45,
     "metadata": {},
     "output_type": "execute_result"
    },
    {
     "data": {
      "image/png": "[encoded data removed]",
      "text/plain": [
       "<Figure size 432x288 with 1 Axes>"
      ]
     },
     "metadata": {},
     "output_type": "display_data"
    }
   ],
   "source": [
    "plt.plot(neighbors,acc_values,'o-')\n",
    "plt.xlabel(\"K-value\")\n",
    "plt.ylabel(\"Accuracy\")"
   ]
  },
  {
   "cell_type": "code",
   "execution_count": 46,
   "id": "1c21d2d2",
   "metadata": {},
   "outputs": [],
   "source": [
    "#kncdf = KNeighborsClassifier(leaf_size=1,n_neighbors=5,metric=\"minkowski\",p=1)\n",
    "#model = kncdf.fit(X_train,y_train)\n",
    "#predictions = model.predict(X_test)\n",
    "#plot_confusion_matrix(kncdf, X_test, y_test)\n",
    "#print(classification_report(y_test, predictions))"
   ]
  },
  {
   "cell_type": "code",
   "execution_count": 47,
   "id": "41f6a7f5",
   "metadata": {},
   "outputs": [],
   "source": [
    "kncdf=KNeighborsClassifier(n_neighbors=5,metric='minkowski')\n",
    "kncdf.fit(X_train,y_train)\n",
    "y_pred=kncdf.predict(X_test)"
   ]
  },
  {
   "cell_type": "code",
   "execution_count": 48,
   "id": "f5d40a69",
   "metadata": {},
   "outputs": [
    {
     "name": "stdout",
     "output_type": "stream",
     "text": [
      "Accuracy is: 0.9349512823693169\n"
     ]
    }
   ],
   "source": [
    "print(\"Accuracy is:\",accuracy_score(y_test,predictions))\n"
   ]
  },
  {
   "cell_type": "code",
   "execution_count": 49,
   "id": "d254eda5",
   "metadata": {},
   "outputs": [
    {
     "data": {
      "text/plain": [
       "array([[3040,    0,    0, ...,    0,    0,    0],\n",
       "       [   0,    1,    0, ...,    0,    0,    0],\n",
       "       [   0,    0,    2, ...,    0,    0,    0],\n",
       "       ...,\n",
       "       [   0,    0,    0, ...,    0,    0,    0],\n",
       "       [   1,    0,    0, ...,    0,   15,    0],\n",
       "       [   0,    0,    0, ...,    0,    0,   14]], dtype=int64)"
      ]
     },
     "execution_count": 49,
     "metadata": {},
     "output_type": "execute_result"
    }
   ],
   "source": [
    "confusion_matrix(y_test,predictions)"
   ]
  },
  {
   "cell_type": "code",
   "execution_count": 50,
   "id": "74aaa7bc",
   "metadata": {},
   "outputs": [
    {
     "data": {
      "text/plain": [
       "<bound method NDFrame.describe of         Age  Condition  Drug  DrugId  EaseofUse  Effectiveness  Satisfaction  \\\n",
       "0        11       1596     4  146724          5              5             5   \n",
       "1         4        424     4  146724          5              5             5   \n",
       "2         9       1184  6866  144731          2              3             3   \n",
       "3        11       1184  6866  144731          2              2             1   \n",
       "4         6       1184  6866  144731          1              1             1   \n",
       "...     ...        ...   ...     ...        ...            ...           ...   \n",
       "362801    8       1587  1244  144470          5              5             5   \n",
       "362802    0       1184  1244  144470          2              3             1   \n",
       "362803    4       1587  1244  144470          2              4             2   \n",
       "362804    8       1587  1244  144470          5              5             5   \n",
       "362805    7       1587  1244  144470          4              5             5   \n",
       "\n",
       "        Sex                                              Sides  \n",
       "0         2  Drowsiness,  dizziness ,  dry mouth /nose/thro...  \n",
       "1         1  Drowsiness,  dizziness ,  dry mouth /nose/thro...  \n",
       "2         1                                                     \n",
       "3         1                                                     \n",
       "4         2                                                     \n",
       "...     ...                                                ...  \n",
       "362801    1  Nausea ,  headache ,  vomiting , drowsiness, g...  \n",
       "362802    0  Nausea ,  headache ,  vomiting , drowsiness, g...  \n",
       "362803    1  Nausea ,  headache ,  vomiting , drowsiness, g...  \n",
       "362804    2  Nausea ,  headache ,  vomiting , drowsiness, g...  \n",
       "362805    1  Nausea ,  headache ,  vomiting , drowsiness, g...  \n",
       "\n",
       "[362805 rows x 9 columns]>"
      ]
     },
     "execution_count": 50,
     "metadata": {},
     "output_type": "execute_result"
    }
   ],
   "source": [
    "df.describe"
   ]
  },
  {
   "cell_type": "markdown",
   "id": "844119d1",
   "metadata": {},
   "source": [
    "# Decision Tree Classifier"
   ]
  },
  {
   "cell_type": "code",
   "execution_count": 51,
   "id": "cccc0d1c",
   "metadata": {},
   "outputs": [],
   "source": [
    "from sklearn.tree import DecisionTreeClassifier"
   ]
  },
  {
   "cell_type": "code",
   "execution_count": 52,
   "id": "d42a5dc9",
   "metadata": {},
   "outputs": [],
   "source": [
    "dt_model=DecisionTreeClassifier()"
   ]
  },
  {
   "cell_type": "code",
   "execution_count": 53,
   "id": "b95f45bc",
   "metadata": {},
   "outputs": [
    {
     "data": {
      "text/plain": [
       "DecisionTreeClassifier()"
      ]
     },
     "execution_count": 53,
     "metadata": {},
     "output_type": "execute_result"
    }
   ],
   "source": [
    "dt_model.fit(X_train,y_train)"
   ]
  },
  {
   "cell_type": "code",
   "execution_count": 54,
   "id": "31f9ecd2",
   "metadata": {},
   "outputs": [],
   "source": [
    "y_pred=dt_model.predict(X_test)"
   ]
  },
  {
   "cell_type": "code",
   "execution_count": 55,
   "id": "05828fa2",
   "metadata": {},
   "outputs": [
    {
     "name": "stdout",
     "output_type": "stream",
     "text": [
      "accuracy on Decision tree model is : 0.9875001722688497\n"
     ]
    }
   ],
   "source": [
    "print(\"accuracy on Decision tree model is :\",accuracy_score(y_test,y_pred))"
   ]
  },
  {
   "cell_type": "code",
   "execution_count": 56,
   "id": "fd51b573",
   "metadata": {},
   "outputs": [
    {
     "data": {
      "text/plain": [
       "                                                                                                                                                                                                       3496\n",
       "Nausea ,  vomiting ,  constipation ,  lightheadedness ,  dizziness , or drowsiness may occur.                                                                                                          3102\n",
       "Nausea ,  vomiting ,  headache ,  bloating ,  breast  tenderness, swelling of the  ankles /feet (fluid retention), or  weight  change may occur.                                                       2486\n",
       "Dizziness ,  lightheadedness , tiredness, or  headache  may occur as your body adjusts to the  medication . Dry  cough  may also occur.                                                                1841\n",
       "Drowsiness,  dizziness , loss of coordination, tiredness, blurred/ double vision , unusual  eye  movements, or shaking (tremor) may occur.                                                             1510\n",
       "                                                                                                                                                                                                       ... \n",
       "Because  flutamide  is usually used with other  medications , the side effects may be caused by the other medications or their combination.                                                               1\n",
       "Diarrhea ,  nausea ,  vomiting ,  constipation ,  abdominal pain ,  weakness ,  headache , difficulty sleeping,  nosebleed , tiredness, loss of appetite, and pain at the injection site may occur.       1\n",
       "Problems with thinking clearly, feeling drunk, a feeling of spinning, or  nausea ,  vomiting , tiredness, or reduced sense of touch may occur.                                                            1\n",
       "Nausea ,  vomiting ,  dry mouth ,  headache , drowsiness,  dizziness ,  blurred vision , and nervousness may occur.                                                                                       1\n",
       "Drowsiness,  dizziness , or  blurred vision  may occur.                                                                                                                                                   1\n",
       "Name: Sides, Length: 1409, dtype: int64"
      ]
     },
     "execution_count": 56,
     "metadata": {},
     "output_type": "execute_result"
    }
   ],
   "source": [
    "y_test.value_counts()"
   ]
  },
  {
   "cell_type": "markdown",
   "id": "ab5a5e22",
   "metadata": {},
   "source": [
    "# RANDOM FOREST CLASSIFIER"
   ]
  },
  {
   "cell_type": "code",
   "execution_count": 62,
   "id": "81c59e2b",
   "metadata": {},
   "outputs": [],
   "source": [
    "from sklearn.ensemble import RandomForestClassifier"
   ]
  },
  {
   "cell_type": "code",
   "execution_count": 63,
   "id": "7349778c",
   "metadata": {},
   "outputs": [],
   "source": [
    "rf_model=RandomForestClassifier(class_weight='balanced',random_state=1,max_depth=5, \\\n",
    "                                n_estimators=500,max_features=1)"
   ]
  },
  {
   "cell_type": "code",
   "execution_count": 64,
   "id": "73989953",
   "metadata": {},
   "outputs": [
    {
     "data": {
      "text/plain": [
       "RandomForestClassifier(class_weight='balanced', max_depth=5, max_features=1,\n",
       "                       n_estimators=500, random_state=1)"
      ]
     },
     "execution_count": 64,
     "metadata": {},
     "output_type": "execute_result"
    }
   ],
   "source": [
    "rf_model.fit(X_train,y_train)"
   ]
  },
  {
   "cell_type": "code",
   "execution_count": 65,
   "id": "e8bc097e",
   "metadata": {},
   "outputs": [],
   "source": [
    "prediction=rf_model.predict(X_test)"
   ]
  },
  {
   "cell_type": "code",
   "execution_count": 66,
   "id": "5ea9ad93",
   "metadata": {},
   "outputs": [
    {
     "name": "stdout",
     "output_type": "stream",
     "text": [
      "accuracy on Random Forest model is : 0.012913272970328413\n"
     ]
    }
   ],
   "source": [
    "print(\"accuracy on Random Forest model is :\",accuracy_score(y_test,prediction))"
   ]
  },
  {
   "cell_type": "markdown",
   "id": "f2513513",
   "metadata": {},
   "source": [
    "# HYPERPARAMETER TUNING-K-NN"
   ]
  },
  {
   "cell_type": "code",
   "execution_count": 57,
   "id": "90936961",
   "metadata": {},
   "outputs": [],
   "source": [
    "from sklearn.model_selection import GridSearchCV"
   ]
  },
  {
   "cell_type": "code",
   "execution_count": 58,
   "id": "64db687a",
   "metadata": {},
   "outputs": [],
   "source": [
    "#List Hyperparameters that we want to tune.\n",
    "leaf_size = list(range(1,5))\n",
    "n_neighbors = list(range(3,4))\n",
    "p=[1,2]\n",
    "#Convert to dictionary\n",
    "hyperparameters = dict(leaf_size=leaf_size, n_neighbors=n_neighbors, p=p)\n",
    "#Create new KNN object\n",
    "knn_2 = KNeighborsClassifier()"
   ]
  },
  {
   "cell_type": "code",
   "execution_count": 59,
   "id": "c031cdd4",
   "metadata": {
    "scrolled": true
   },
   "outputs": [
    {
     "name": "stderr",
     "output_type": "stream",
     "text": [
      "C:\\Users\\Anitta\\anaconda3\\lib\\site-packages\\sklearn\\model_selection\\_split.py:666: UserWarning: The least populated class in y has only 1 members, which is less than n_splits=10.\n",
      "  warnings.warn((\"The least populated class in y has only %d\"\n"
     ]
    },
    {
     "name": "stdout",
     "output_type": "stream",
     "text": [
      "Best leaf_size: 4\n",
      "Best p: 1\n",
      "Best n_neighbors: 3\n"
     ]
    }
   ],
   "source": [
    "#Use GridSearch\n",
    "clf = GridSearchCV(knn_2, hyperparameters, cv=10)\n",
    "#Fit the model\n",
    "best_model = clf.fit(X_train,y_train)\n",
    "#Print The value of best Hyperparameters\n",
    "print('Best leaf_size:', best_model.best_estimator_.get_params()['leaf_size'])\n",
    "print('Best p:', best_model.best_estimator_.get_params()['p'])\n",
    "print('Best n_neighbors:', best_model.best_estimator_.get_params()['n_neighbors'])"
   ]
  },
  {
   "cell_type": "code",
   "execution_count": 60,
   "id": "73f7a295",
   "metadata": {},
   "outputs": [],
   "source": [
    "kncdf = KNeighborsClassifier(leaf_size=4,n_neighbors=3,metric=\"minkowski\",p=1)\n",
    "model = kncdf.fit(X_train,y_train)\n",
    "predictions = model.predict(X_test)\n"
   ]
  },
  {
   "cell_type": "code",
   "execution_count": 61,
   "id": "1eac5c98",
   "metadata": {},
   "outputs": [
    {
     "name": "stdout",
     "output_type": "stream",
     "text": [
      "Accuracy is: 0.9638097600639461\n"
     ]
    }
   ],
   "source": [
    "print(\"Accuracy is:\",accuracy_score(y_test,predictions))\n"
   ]
  },
  {
   "cell_type": "markdown",
   "id": "8a3d3267",
   "metadata": {},
   "source": [
    "# HYPERPARAMETER TUNING-Decision Tree Classifier"
   ]
  },
  {
   "cell_type": "code",
   "execution_count": null,
   "id": "e292db01",
   "metadata": {},
   "outputs": [],
   "source": [
    "dt=DecisionTree Classifier(random_state=42)"
   ]
  },
  {
   "cell_type": "code",
   "execution_count": null,
   "id": "bf495fd5",
   "metadata": {},
   "outputs": [],
   "source": [
    "from sklearn.model_selection import GridSearchCV"
   ]
  },
  {
   "cell_type": "code",
   "execution_count": null,
   "id": "8cdd3151",
   "metadata": {},
   "outputs": [],
   "source": [
    "params={'max_depth':[2,3,5,10,20],'min_samples_leaf':[5,10,20,50,100],'criterion':[\"gini\",\"entropy\"]}"
   ]
  },
  {
   "cell_type": "code",
   "execution_count": null,
   "id": "01bb899a",
   "metadata": {},
   "outputs": [],
   "source": [
    "grid_search=GridSearchCV(estimator=dt,param_grid=params,cv=4,n_jobs=-1,scoring=\"accuracy\")"
   ]
  },
  {
   "cell_type": "code",
   "execution_count": null,
   "id": "83d2bf94",
   "metadata": {},
   "outputs": [],
   "source": [
    "grid_search.fit(X_train,y_train)"
   ]
  },
  {
   "cell_type": "code",
   "execution_count": null,
   "id": "55252137",
   "metadata": {},
   "outputs": [],
   "source": [
    "score_df=pd.DataFrme(grid_search.cv_results_)\n",
    "score_df.head()"
   ]
  },
  {
   "cell_type": "code",
   "execution_count": null,
   "id": "cef64fe9",
   "metadata": {},
   "outputs": [],
   "source": [
    "score_df.nlargest(5,\"mean_test_score\")"
   ]
  },
  {
   "cell_type": "code",
   "execution_count": null,
   "id": "f287ec3a",
   "metadata": {},
   "outputs": [],
   "source": [
    "grid_search.best_estimator_"
   ]
  },
  {
   "cell_type": "code",
   "execution_count": null,
   "id": "ad726a6b",
   "metadata": {},
   "outputs": [],
   "source": [
    "dt_best=grid_search.best_estimator_"
   ]
  },
  {
   "cell_type": "code",
   "execution_count": null,
   "id": "713daeae",
   "metadata": {},
   "outputs": [],
   "source": [
    "evaluate_model(dt_best)"
   ]
  },
  {
   "cell_type": "markdown",
   "id": "62125afb",
   "metadata": {},
   "source": [
    "# TUNING- random forest classifier"
   ]
  },
  {
   "cell_type": "code",
   "execution_count": null,
   "id": "80aa4629",
   "metadata": {},
   "outputs": [],
   "source": [
    "from sklearn.ensemble import RandomForestClassifier\n",
    "rf = RandomForestClassifier(random_state = 42)\n",
    "from pprint import pprint\n",
    "# Look at parameters used by our current forest\n",
    "print('Parameters currently in use:\\n')\n",
    "pprint(rf.get_params())"
   ]
  },
  {
   "cell_type": "code",
   "execution_count": null,
   "id": "7e1acab8",
   "metadata": {},
   "outputs": [],
   "source": [
    "from sklearn.model_selection import RandomizedSearchCV\n",
    "# Number of trees in random forest\n",
    "n_estimators = [int(x) for x in np.linspace(start = 500, stop = 1000, num = 3)]\n",
    "# Number of features to consider at every split\n",
    "max_features = ['sqrt']\n",
    "max_depth = []\n",
    "max_depth.append(None)\n",
    "# Minimum number of samples required to split a node\n",
    "min_samples_split = [2]\n",
    "# Minimum number of samples required at each leaf node\n",
    "min_samples_leaf = [1]\n",
    "# Method of selecting samples for training each tree\n",
    "#bootstrap = [True, False]\n",
    "bootstrap = [True]\n",
    "# Create the random grid\n",
    "random_grid = {'n_estimators': n_estimators,\n",
    "               'max_features': max_features,\n",
    "               'max_depth': max_depth,\n",
    "               'min_samples_split': min_samples_split,\n",
    "               'min_samples_leaf': min_samples_leaf,\n",
    "               'bootstrap': bootstrap}\n",
    "pprint(random_grid)"
   ]
  },
  {
   "cell_type": "code",
   "execution_count": null,
   "id": "6bfac244",
   "metadata": {},
   "outputs": [],
   "source": [
    "# Use the random grid to search for best hyperparameters\n",
    "# First create the base model to tune\n",
    "rf = RandomForestClassifier()\n",
    "# Random search of parameters, using 3 fold cross validation, \n",
    "# search across 100 different combinations, and use all available cores\n",
    "rf_random = RandomizedSearchCV(estimator = rf, param_distributions = random_grid, n_iter = 100, cv = 3, verbose=2, random_state=42, n_jobs = -1)\n",
    "# Fit the random search model\n",
    "rf_random.fit(X_train,y_train)"
   ]
  },
  {
   "cell_type": "code",
   "execution_count": null,
   "id": "121e2bb4",
   "metadata": {},
   "outputs": [],
   "source": [
    "rf_random.best_params_"
   ]
  },
  {
   "cell_type": "code",
   "execution_count": null,
   "id": "09663e65",
   "metadata": {},
   "outputs": [],
   "source": [
    "rf = RandomForestClassifier(random_state = 42,n_estimators= 750,max_features='sqrt')\n"
   ]
  },
  {
   "cell_type": "code",
   "execution_count": null,
   "id": "838de354",
   "metadata": {},
   "outputs": [],
   "source": [
    "model = rf.fit(X_train,y_train)\n",
    "predictions = model.predict(X_test)\n",
    "plot_confusion_matrix(rf, X_test, y_test)\n",
    "print(classification_report(y_test, predictions))"
   ]
  }
 ],
 "metadata": {
  "kernelspec": {
   "display_name": "Python 3",
   "language": "python",
   "name": "python3"
  },
  "language_info": {
   "codemirror_mode": {
    "name": "ipython",
    "version": 3
   },
   "file_extension": ".py",
   "mimetype": "text/x-python",
   "name": "python",
   "nbconvert_exporter": "python",
   "pygments_lexer": "ipython3",
   "version": "3.8.8"
  }
 },
 "nbformat": 4,
 "nbformat_minor": 5
}
